{
 "cells": [
  {
   "cell_type": "markdown",
   "metadata": {},
   "source": [
    "The northward heat transport seems to depend on the averaging period.\n",
    "\n",
    "Calculating heat transport at every time-step (diaptr) and later averaging is preferable.\n",
    "\n",
    "Using averaged T and V fields to calculate heat transport later (CDFTOOLS or python etc.) produces \"spikes\" around the equator."
   ]
  },
  {
   "cell_type": "code",
   "execution_count": 1,
   "metadata": {},
   "outputs": [],
   "source": [
    "from glob import glob\n",
    "import numpy as np\n",
    "import xarray as xr\n",
    "from cmocean import cm\n",
    "from matplotlib import pyplot as plt\n",
    "import xgcm\n",
    "import warnings\n",
    "warnings.simplefilter(action='ignore', category=FutureWarning)\n",
    "%config InlineBackend.print_figure_kwargs = {'bbox_inches': None}"
   ]
  },
  {
   "cell_type": "code",
   "execution_count": 2,
   "metadata": {},
   "outputs": [],
   "source": [
    "in_path = '/scratch/usr/shkifmjr/OMIP/GEOMAR05.JRAbgc-cycle6/'"
   ]
  },
  {
   "cell_type": "code",
   "execution_count": 39,
   "metadata": {},
   "outputs": [],
   "source": [
    "diaptr = xr.open_mfdataset(sorted(glob(in_path + 'OUT/GEOMAR05.JRAbgc-cycle6_1y_????0101_????1231_diaptr.nc'))).isel(x_gznl=500)"
   ]
  },
  {
   "cell_type": "code",
   "execution_count": 31,
   "metadata": {},
   "outputs": [],
   "source": [
    "hfpath = in_path + 'omip_data/GEOMAR05.JRAbgc-cycle6_1y_19580101_20181231_hfbasin_'\n",
    "hfbasin = xr.open_dataset(hfpath + 'global.nc')\n",
    "hfbasin = hfbasin.update({'hfbasin_atl': xr.open_dataset(hfpath + 'atl.nc')['hfbasin_atl']})\n",
    "hfbasin = hfbasin.update({'hfbasin_pac': xr.open_dataset(hfpath + 'pac.nc')['hfbasin_pac']})\n",
    "hfbasin = hfbasin.update({'hfbasin_ind': xr.open_dataset(hfpath + 'ind.nc')['hfbasin_ind']})\n",
    "hfbasin = hfbasin.update({'hfbasin_indpac': xr.open_dataset(hfpath + 'indpac.nc')['hfbasin_indpac']})"
   ]
  },
  {
   "cell_type": "code",
   "execution_count": 121,
   "metadata": {},
   "outputs": [],
   "source": [
    "grid_T = xr.open_mfdataset(glob(in_path + 'OUT/GEOMAR05.JRAbgc-cycle6_1y_20080101_20081231_grid_T.nc')).rename({'deptht': 'depthv'})\n",
    "grid_V = xr.open_mfdataset(glob(in_path + 'OUT/GEOMAR05.JRAbgc-cycle6_1y_20080101_20081231_grid_V.nc'))\n",
    "basins = xr.open_dataset(in_path + 'omip_data/new_maskglo.nc').rename({'X': 'x', 'Y': 'y'})\n",
    "mhgr = xr.open_dataset(in_path + 'omip_data/mesh_hgr.nc').rename({'z': 'depthv', 't': 'time_counter'})\n",
    "mzgr = xr.open_dataset(in_path + 'omip_data/mesh_zgr.nc').rename({'z': 'depthv', 't': 'time_counter'})\n",
    "pprau0 = 1000.\n",
    "pprcp  = 4000."
   ]
  },
  {
   "cell_type": "code",
   "execution_count": 122,
   "metadata": {},
   "outputs": [],
   "source": [
    "temp = grid_T['votemper']\n",
    "v = grid_V['vomecrty']"
   ]
  },
  {
   "cell_type": "code",
   "execution_count": 123,
   "metadata": {},
   "outputs": [],
   "source": [
    "trans = 0.5 * (temp[:,:,0:-1,:] + temp[:,:,1::,:]) * v[:,:,0:-1,:]"
   ]
  },
  {
   "cell_type": "code",
   "execution_count": 124,
   "metadata": {},
   "outputs": [],
   "source": [
    "trans_vert = (trans * mhgr['e1v'][:,0:-1,:] * mzgr['e3t_0'][:,:,0:-1,:] * pprau0 * pprcp).sum('depthv')"
   ]
  },
  {
   "cell_type": "code",
   "execution_count": 137,
   "metadata": {},
   "outputs": [],
   "source": [
    "trans_pac = (trans_vert * basins['tmaskpac'][0:-1,:]).sum('x') / 1e15"
   ]
  },
  {
   "cell_type": "code",
   "execution_count": 138,
   "metadata": {},
   "outputs": [
    {
     "data": {
      "text/plain": [
       "(-35, 67)"
      ]
     },
     "execution_count": 138,
     "metadata": {},
     "output_type": "execute_result"
    },
    {
     "data": {
      "image/png": "[encoded data removed]",
      "text/plain": [
       "<Figure size 432x288 with 1 Axes>"
      ]
     },
     "metadata": {
      "needs_background": "light"
     },
     "output_type": "display_data"
    }
   ],
   "source": [
    "plt.plot(diaptr['nav_lat_gznl'], diaptr.isel(time_counter=50)['sopht_vt_pac'])\n",
    "plt.plot(hfbasin['lat'], hfbasin.isel(time=50)['hfbasin_pac'].where(hfbasin.isel(time=10)['hfbasin_pac'] < 1000))\n",
    "plt.plot(mhgr['nav_lat'][0:-1,0].squeeze(), trans_pac.squeeze())\n",
    "plt.xlim(-35, 67)"
   ]
  },
  {
   "cell_type": "code",
   "execution_count": null,
   "metadata": {},
   "outputs": [],
   "source": []
  }
 ],
 "metadata": {
  "kernelspec": {
   "display_name": "Python [conda env:py3_std]",
   "language": "python",
   "name": "conda-env-py3_std-py"
  },
  "language_info": {
   "codemirror_mode": {
    "name": "ipython",
    "version": 3
   },
   "file_extension": ".py",
   "mimetype": "text/x-python",
   "name": "python",
   "nbconvert_exporter": "python",
   "pygments_lexer": "ipython3",
   "version": "3.6.8"
  }
 },
 "nbformat": 4,
 "nbformat_minor": 2
}
