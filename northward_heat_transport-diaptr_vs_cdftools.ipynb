{
 "cells": [
  {
   "cell_type": "markdown",
   "metadata": {},
   "source": [
    "The northward heat transport seems to depend on the averaging period.\n",
    "\n",
    "Calculating heat transport at every time-step (diaptr) and later averaging is preferable.\n",
    "\n",
    "Using averaged T and V fields to calculate heat transport later (CDFTOOLS or python etc.) produces \"spikes\" around the equator."
   ]
  },
  {
   "cell_type": "code",
   "execution_count": 1,
   "metadata": {},
   "outputs": [],
   "source": [
    "from glob import glob\n",
    "import numpy as np\n",
    "import xarray as xr\n",
    "from cmocean import cm\n",
    "from matplotlib import pyplot as plt\n",
    "import xgcm\n",
    "import warnings\n",
    "warnings.simplefilter(action='ignore', category=FutureWarning)\n",
    "%config InlineBackend.print_figure_kwargs = {'bbox_inches': None}"
   ]
  },
  {
   "cell_type": "code",
   "execution_count": 2,
   "metadata": {},
   "outputs": [],
   "source": [
    "in_path = '/scratch/usr/shkifmjr/OMIP/GEOMAR05.JRAbgc-cycle6/'"
   ]
  },
  {
   "cell_type": "markdown",
   "metadata": {},
   "source": [
    "Load the diaptr files written by NEMO (here, heat transports are calculated at every time step and then later averaged to write the output)"
   ]
  },
  {
   "cell_type": "code",
   "execution_count": 3,
   "metadata": {},
   "outputs": [],
   "source": [
    "diaptr = xr.open_mfdataset(sorted(glob(in_path + 'OUT/GEOMAR05.JRAbgc-cycle6_1y_????0101_????1231_diaptr.nc'))).isel(x_gznl=500)"
   ]
  },
  {
   "cell_type": "markdown",
   "metadata": {},
   "source": [
    "Load the heat transports calculated by the CDFTOOLS (here heat transport is calulated from yearly averaged temperature and velocity)"
   ]
  },
  {
   "cell_type": "code",
   "execution_count": 4,
   "metadata": {},
   "outputs": [],
   "source": [
    "hfpath = in_path + 'omip_data/GEOMAR05.JRAbgc-cycle6_1y_19580101_20181231_hfbasin_'\n",
    "hfbasin = xr.open_dataset(hfpath + 'global.nc')\n",
    "hfbasin = hfbasin.update({'hfbasin_atl': xr.open_dataset(hfpath + 'atl.nc')['hfbasin_atl']})\n",
    "hfbasin = hfbasin.update({'hfbasin_pac': xr.open_dataset(hfpath + 'pac.nc')['hfbasin_pac']})\n",
    "hfbasin = hfbasin.update({'hfbasin_ind': xr.open_dataset(hfpath + 'ind.nc')['hfbasin_ind']})\n",
    "hfbasin = hfbasin.update({'hfbasin_indpac': xr.open_dataset(hfpath + 'indpac.nc')['hfbasin_indpac']})"
   ]
  },
  {
   "cell_type": "markdown",
   "metadata": {},
   "source": [
    "Load the grid_T and grid_V files from NEMO to calculate heat transport with python (this is to exclude the possibilty that there is an error in the CDFTOOLS)"
   ]
  },
  {
   "cell_type": "code",
   "execution_count": 5,
   "metadata": {},
   "outputs": [],
   "source": [
    "grid_T = xr.open_mfdataset(glob(in_path + 'OUT/GEOMAR05.JRAbgc-cycle6_1y_20080101_20081231_grid_T.nc')).rename({'deptht': 'depthv'})\n",
    "grid_V = xr.open_mfdataset(glob(in_path + 'OUT/GEOMAR05.JRAbgc-cycle6_1y_20080101_20081231_grid_V.nc'))\n",
    "basins = xr.open_dataset(in_path + 'omip_data/new_maskglo.nc').rename({'X': 'x', 'Y': 'y'})\n",
    "mhgr = xr.open_dataset(in_path + 'omip_data/mesh_hgr.nc').rename({'z': 'depthv', 't': 'time_counter'})\n",
    "mzgr = xr.open_dataset(in_path + 'omip_data/mesh_zgr.nc').rename({'z': 'depthv', 't': 'time_counter'})\n",
    "mask = xr.open_dataset(in_path + 'omip_data/mask.nc').rename({'z': 'depthv', 't': 'time_counter'})\n",
    "pprau0 = 1000.\n",
    "pprcp  = 4000."
   ]
  },
  {
   "cell_type": "code",
   "execution_count": 6,
   "metadata": {},
   "outputs": [],
   "source": [
    "temp = grid_T['votemper']\n",
    "v = grid_V['vomecrty']"
   ]
  },
  {
   "cell_type": "code",
   "execution_count": 7,
   "metadata": {},
   "outputs": [],
   "source": [
    "trans = 0.5 * (temp[:,:,0:-1,:] + temp[:,:,1::,:]) * v[:,:,0:-1,:]"
   ]
  },
  {
   "cell_type": "code",
   "execution_count": 8,
   "metadata": {},
   "outputs": [],
   "source": [
    "trans_vert = (trans * mhgr['e1v'][:,0:-1,:] * mzgr['e3t_0'][:,:,0:-1,:] * pprau0 * pprcp).sum('depthv')"
   ]
  },
  {
   "cell_type": "code",
   "execution_count": 9,
   "metadata": {},
   "outputs": [],
   "source": [
    "trans_vert_test = (trans[:,::-1,:,:] * mhgr['e1v'][:,0:-1,:] * mzgr['e3t_0'][:,::-1,0:-1,:] * pprau0 * pprcp).sum('depthv')"
   ]
  },
  {
   "cell_type": "code",
   "execution_count": 10,
   "metadata": {},
   "outputs": [],
   "source": [
    "trans_pac = (trans_vert * mask['tmask'][0,0,0:-1,:]).sum('x') / 1e15"
   ]
  },
  {
   "cell_type": "code",
   "execution_count": 11,
   "metadata": {},
   "outputs": [],
   "source": [
    "trans_pac_test = (trans_vert_test * mask['tmask'][0,0,0:-1,:]).sum('x') / 1e15"
   ]
  },
  {
   "cell_type": "code",
   "execution_count": 12,
   "metadata": {},
   "outputs": [
    {
     "data": {
      "text/plain": [
       "<matplotlib.legend.Legend at 0x2aaae283dbe0>"
      ]
     },
     "execution_count": 12,
     "metadata": {},
     "output_type": "execute_result"
    },
    {
     "data": {
      "image/png": "[encoded data removed]",
      "text/plain": [
       "<Figure size 432x288 with 1 Axes>"
      ]
     },
     "metadata": {
      "needs_background": "light"
     },
     "output_type": "display_data"
    }
   ],
   "source": [
    "plt.plot(diaptr['nav_lat_gznl'], diaptr.isel(time_counter=50)['sopht_vt'], label='diaptr')\n",
    "plt.plot(hfbasin['lat'], hfbasin.isel(time=50)['hfbasin_global'].where(hfbasin.isel(time=10)['hfbasin_global'] < 1000), label='CDFTOOLS')\n",
    "plt.plot(mhgr['nav_lat'][0:-1,100].squeeze(), trans_pac.squeeze(), label='python')\n",
    "plt.xlim(-10, 25)\n",
    "plt.legend()"
   ]
  },
  {
   "cell_type": "markdown",
   "metadata": {},
   "source": [
    "Test everything with 5d 1m and 1y mean calculations compared to diaptr"
   ]
  },
  {
   "cell_type": "code",
   "execution_count": 13,
   "metadata": {},
   "outputs": [],
   "source": [
    "orion_path = '/scratch/usr/shkifmjr/ORION10.L46.LIM2vp.CFCSF6.MOPS.JRA.XIOS2.5-EXP01/OUT/'"
   ]
  },
  {
   "cell_type": "code",
   "execution_count": 14,
   "metadata": {},
   "outputs": [],
   "source": [
    "diaptr_o = xr.open_dataset(orion_path + 'ORION10.L46.LIM2vp.CFCSF6.MOPS.JRA.XIOS2.5-EXP01_1m_20050101_20051231_diaptr.nc')"
   ]
  },
  {
   "cell_type": "code",
   "execution_count": 24,
   "metadata": {},
   "outputs": [],
   "source": [
    "grid_T_1m = xr.open_dataset(orion_path + 'ORION10.L46.LIM2vp.CFCSF6.MOPS.JRA.XIOS2.5-EXP01_1m_20050101_20051231_grid_T.nc').rename({'deptht': 'depthv'})\n",
    "grid_V_1m = xr.open_dataset(orion_path + 'ORION10.L46.LIM2vp.CFCSF6.MOPS.JRA.XIOS2.5-EXP01_1m_20050101_20051231_grid_V.nc')"
   ]
  },
  {
   "cell_type": "code",
   "execution_count": 25,
   "metadata": {},
   "outputs": [],
   "source": [
    "grid_T_5d = xr.open_dataset(orion_path + 'ORION10.L46.LIM2vp.CFCSF6.MOPS.JRA.XIOS2.5-EXP01_5d_20050101_20051231_grid_T.nc').rename({'deptht': 'depthv'})\n",
    "grid_V_5d = xr.open_dataset(orion_path + 'ORION10.L46.LIM2vp.CFCSF6.MOPS.JRA.XIOS2.5-EXP01_5d_20050101_20051231_grid_V.nc')"
   ]
  },
  {
   "cell_type": "code",
   "execution_count": 26,
   "metadata": {},
   "outputs": [],
   "source": [
    "temp_1m = grid_T_1m['votemper']\n",
    "v_1m = grid_V_1m['vomecrty']"
   ]
  },
  {
   "cell_type": "code",
   "execution_count": 27,
   "metadata": {},
   "outputs": [],
   "source": [
    "temp_1y = temp_1m.mean('time_counter')\n",
    "v_1y = v_1m.mean('time_counter')"
   ]
  },
  {
   "cell_type": "code",
   "execution_count": 28,
   "metadata": {},
   "outputs": [],
   "source": [
    "temp_5d = grid_T_5d['votemper']\n",
    "v_5d = grid_V_5d['vomecrty']"
   ]
  },
  {
   "cell_type": "code",
   "execution_count": 29,
   "metadata": {},
   "outputs": [],
   "source": [
    "trans_1y = 0.5 * (temp_1y[:,0:-1,:] + temp_1y[:,1::,:]) * v_1y[:,0:-1,:]"
   ]
  },
  {
   "cell_type": "code",
   "execution_count": 44,
   "metadata": {},
   "outputs": [],
   "source": [
    "trans_1m = 0.5 * (temp_1m[:,:,0:-1,:] + temp_1m[:,:,1::,:]) * v_1m[:,:,0:-1,:]"
   ]
  },
  {
   "cell_type": "code",
   "execution_count": 46,
   "metadata": {},
   "outputs": [],
   "source": [
    "trans_5d = 0.5 * (temp_5d[:,:,0:-1,:] + temp_5d[:,:,1::,:]) * v_5d[:,:,0:-1,:]"
   ]
  },
  {
   "cell_type": "code",
   "execution_count": 47,
   "metadata": {},
   "outputs": [],
   "source": [
    "trans_vert_1y = (trans_1y * mhgr['e1v'][:,0:-1,:].squeeze() * mzgr['e3t_0'][:,:,0:-1,:].squeeze() * pprau0 * pprcp).sum('depthv')"
   ]
  },
  {
   "cell_type": "code",
   "execution_count": 48,
   "metadata": {},
   "outputs": [],
   "source": [
    "trans_vert_1m = (trans_1m * mhgr['e1v'][:,0:-1,:].squeeze() * mzgr['e3t_0'][:,:,0:-1,:].squeeze() * pprau0 * pprcp).sum('depthv')"
   ]
  },
  {
   "cell_type": "code",
   "execution_count": 50,
   "metadata": {},
   "outputs": [],
   "source": [
    "trans_vert_5d = (trans_5d * mhgr['e1v'][:,0:-1,:].squeeze() * mzgr['e3t_0'][:,:,0:-1,:].squeeze() * pprau0 * pprcp).sum('depthv')"
   ]
  },
  {
   "cell_type": "code",
   "execution_count": 53,
   "metadata": {},
   "outputs": [],
   "source": [
    "trans_pac_1y = (trans_vert_1y * basins['tmaskpac'][0:-1,:]).sum('x') / 1e15"
   ]
  },
  {
   "cell_type": "code",
   "execution_count": 56,
   "metadata": {},
   "outputs": [],
   "source": [
    "trans_pac_1m = (trans_vert_1m * basins['tmaskpac'][0:-1,:]).sum('x') / 1e15"
   ]
  },
  {
   "cell_type": "code",
   "execution_count": 57,
   "metadata": {},
   "outputs": [],
   "source": [
    "trans_pac_5d = (trans_vert_5d * basins['tmaskpac'][0:-1,:]).sum('x') / 1e15"
   ]
  },
  {
   "cell_type": "code",
   "execution_count": 62,
   "metadata": {},
   "outputs": [
    {
     "data": {
      "text/plain": [
       "(0, 20)"
      ]
     },
     "execution_count": 62,
     "metadata": {},
     "output_type": "execute_result"
    },
    {
     "data": {
      "image/png": "[encoded data removed]",
      "text/plain": [
       "<Figure size 432x288 with 1 Axes>"
      ]
     },
     "metadata": {
      "needs_background": "light"
     },
     "output_type": "display_data"
    }
   ],
   "source": [
    "plt.plot(diaptr_o['nav_lat_gznl'].isel(x_gznl=500), diaptr_o['sopht_vt_pac'].isel(x_gznl=500).mean('time_counter'), label='diaptr')\n",
    "plt.plot(trans_1y['nav_lat'].isel(x=500), trans_pac_1y, label='python 1y')\n",
    "plt.plot(trans_1y['nav_lat'].isel(x=500), trans_pac_1m.mean('time_counter'), label='python 1m')\n",
    "plt.plot(trans_1y['nav_lat'].isel(x=500), trans_pac_5d.mean('time_counter'), label='python 5d')\n",
    "plt.legend()\n",
    "plt.xlim(0, 20)"
   ]
  },
  {
   "cell_type": "code",
   "execution_count": null,
   "metadata": {},
   "outputs": [],
   "source": []
  }
 ],
 "metadata": {
  "kernelspec": {
   "display_name": "Python [conda env:py3_std]",
   "language": "python",
   "name": "conda-env-py3_std-py"
  },
  "language_info": {
   "codemirror_mode": {
    "name": "ipython",
    "version": 3
   },
   "file_extension": ".py",
   "mimetype": "text/x-python",
   "name": "python",
   "nbconvert_exporter": "python",
   "pygments_lexer": "ipython3",
   "version": "3.6.8"
  }
 },
 "nbformat": 4,
 "nbformat_minor": 2
}
