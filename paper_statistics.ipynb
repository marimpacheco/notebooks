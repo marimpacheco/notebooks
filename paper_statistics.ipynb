{
 "cells": [
  {
   "cell_type": "markdown",
   "id": "c191a36e",
   "metadata": {},
   "source": []
  },
  {
   "cell_type": "code",
   "execution_count": 1,
   "id": "cd0ac482",
   "metadata": {},
   "outputs": [],
   "source": [
    "from glob import glob\n",
    "import numpy as np\n",
    "import xarray as xr\n",
    "from matplotlib import pyplot as plt\n",
    "# import xgcm\n",
    "# from xorca.lib import load_xorca_dataset\n",
    "import pickle\n",
    "import eddytools as et\n",
    "from cmocean import cm\n",
    "# from dask.diagnostics import ProgressBar\n",
    "import pandas as pd\n",
    "import cartopy.crs as ccrs\n",
    "import cartopy.feature as cfeature\n",
    "from datetime import timedelta\n",
    "import matplotlib.colors as colors\n",
    "import seawater as sw\n",
    "import math\n",
    "import scipy.stats as stats\n",
    "from matplotlib import axes\n",
    "import xoak\n",
    "\n",
    "import warnings\n",
    "warnings.simplefilter(action='ignore', category=RuntimeWarning)"
   ]
  },
  {
   "cell_type": "code",
   "execution_count": 17,
   "id": "ffe31ad3",
   "metadata": {},
   "outputs": [],
   "source": [
    "# import dask, dask.distributed\n",
    "# import dask_jobqueue\n",
    "# cluster = dask_jobqueue.SLURMCluster(cores=8,memory='60GB',processes=1,queue='large96:shared', walltime='6:00:00',interface='ib0',local_directory='$TMPDIR')\n",
    "# client = dask.distributed.Client(cluster)\n",
    "# cluster.scale(jobs=8)"
   ]
  },
  {
   "cell_type": "code",
   "execution_count": null,
   "id": "cb869143",
   "metadata": {},
   "outputs": [],
   "source": [
    "# client"
   ]
  },
  {
   "cell_type": "code",
   "execution_count": 3,
   "id": "29d96b3f",
   "metadata": {
    "jupyter": {
     "source_hidden": true
    }
   },
   "outputs": [],
   "source": [
    "def create_stat(model, year_start, year_finished = 2018): # UPDATED 09.09.2022 - > ONLY TYPED0\n",
    "    \n",
    "    \"\"\" \n",
    "        model == 0 > EXP05 elif == 1 EXP06\n",
    "        typed == 0 > ACC / elif == 1 WHOLE REGION\n",
    "    \"\"\"\n",
    "    \n",
    "    folder = 'EXP05' if model == 0 else 'EXP06'\n",
    "    \n",
    "    with open(datapath + folder + '/detected/track_dict_' + str(year_start) + '0101_' + str(year_finished) + '1231_tracks_typed0.pickle', 'rb') as f:\n",
    "        tracks = pickle.load(f)\n",
    "    f.close()     \n",
    "    \n",
    "    eddy_stat = pd.DataFrame.from_dict(tracks, orient = 'index').drop(['eddy_j', 'eddy_i'], axis=1)\n",
    "    \n",
    "    for i in eddy_stat.index:\n",
    "        eddy_stat.loc[i, 'life_time'] = pd.to_datetime(eddy_stat.time.loc[i][-1]) - pd.to_datetime(eddy_stat.time.loc[i][0])\n",
    "    \n",
    "    eddy_stat = eddy_stat.loc[(eddy_stat['exist_at_start'] ==  False) & (eddy_stat.terminated == True)]\n",
    "    \n",
    "    for i in eddy_stat.index:\n",
    "        lat = [eddy_stat.loc[i, 'lat'][0], eddy_stat.loc[i, 'lat'][-1]]\n",
    "        lon = [eddy_stat.loc[i, 'lon'][0], eddy_stat.loc[i, 'lon'][-1]]\n",
    "        eddy_stat.loc[i, 'distance'] = sw.extras.dist(lat,lon)[0]\n",
    "        #eddy_stat.loc[i, 'speed'] = eddy_stat.loc[i, 'distance'] / eddy_stat.loc[i, 'life_time']\n",
    "        eddy_stat.loc[i, 'speed'] = (eddy_stat.loc[i, 'distance'] *1e5)/ (eddy_stat.loc[i, 'life_time'].days * 24 * 3600) # cm/s\n",
    "#         eddy_stat.loc[i, 'angle'] = (sw.extras.dist(eddy_stat.loc[i, 'lat'], eddy_stat.loc[i, 'lon'])[1]).mean()\n",
    "        eddy_stat.loc[i, 'area_mean'] = eddy_stat.loc[i, 'area'].mean()\n",
    "        eddy_stat.loc[i, 'area_max'] = eddy_stat.loc[i, 'area'].max()\n",
    "        eddy_stat.loc[i, 'amp_mean'] = eddy_stat.loc[i, 'amp'].mean()\n",
    "        eddy_stat.loc[i, 'amp_max'] = eddy_stat.loc[i, 'amp'].max()\n",
    "        eddy_stat.loc[i, 'scale_mean'] = eddy_stat.loc[i, 'scale'].mean()\n",
    "        eddy_stat.loc[i, 'scale_min'] = eddy_stat.loc[i, 'scale'].min()\n",
    "        eddy_stat.loc[i, 'scale_max'] = eddy_stat.loc[i, 'scale'].max()\n",
    "        eddy_stat.loc[i, 'year_i'] = pd.to_datetime(eddy_stat.time.loc[i][0]).year\n",
    "        eddy_stat.loc[i, 'year_f'] = pd.to_datetime(eddy_stat.time.loc[i][-1]).year\n",
    "    \n",
    "    eddy_stat = eddy_stat.drop(labels=['lon','lat','amp','area','scale','exist_at_start','terminated'],axis=1)\n",
    "\n",
    "    eddy_stat = eddy_stat.loc[(eddy_stat['life_time'].astype('timedelta64[D]') >= 30)]\n",
    "    eddy_stat.loc[:, 'life_time'] = eddy_stat.loc[:, 'life_time'].astype('timedelta64[D]')\n",
    "        \n",
    "    eddy_stat.loc[:,'scale_mean'] *= 2\n",
    "    eddy_stat.loc[:,'scale_max'] *= 2\n",
    "\n",
    "    eddy_stat = eddy_stat.drop('time', axis=1)\n",
    "\n",
    "    \n",
    "    eddy_stat.to_pickle(path= datapath + folder + '/detected/stat_' + folder + '_acc_'+ str(year_start) + '_' + str(year_finished) +'.pkl')\n",
    "\n",
    "    return eddy_stat"
   ]
  },
  {
   "cell_type": "code",
   "execution_count": null,
   "id": "8840c6b4",
   "metadata": {},
   "outputs": [],
   "source": [
    "# create_stat(model=1, year_start=1993, year_finished=2018)"
   ]
  },
  {
   "cell_type": "markdown",
   "id": "b1ec2bdb",
   "metadata": {},
   "source": [
    "### path to data"
   ]
  },
  {
   "cell_type": "code",
   "execution_count": 2,
   "id": "b51de634",
   "metadata": {},
   "outputs": [],
   "source": [
    "datapath = '/scratch/usr/shkifmmp/manusc/data/'\n",
    "\n",
    "path_EXP05_old = '/scratch/usr/shkifmmp/master/data/ORION10/eddies_detect/acc/'\n",
    "\n",
    "mask_acc = xr.open_dataset('/scratch/usr/shkifmmp/master/data/ORION10/mask/mask_nest_int_2d.nc')"
   ]
  },
  {
   "cell_type": "code",
   "execution_count": 3,
   "id": "e787b8c4",
   "metadata": {},
   "outputs": [
    {
     "data": {
      "text/html": [
       "<div><svg style=\"position: absolute; width: 0; height: 0; overflow: hidden\">\n",
       "<defs>\n",
       "<symbol id=\"icon-database\" viewBox=\"0 0 32 32\">\n",
       "<path d=\"M16 0c-8.837 0-16 2.239-16 5v4c0 2.761 7.163 5 16 5s16-2.239 16-5v-4c0-2.761-7.163-5-16-5z\"></path>\n",
       "<path d=\"M16 17c-8.837 0-16-2.239-16-5v6c0 2.761 7.163 5 16 5s16-2.239 16-5v-6c0 2.761-7.163 5-16 5z\"></path>\n",
       "<path d=\"M16 26c-8.837 0-16-2.239-16-5v6c0 2.761 7.163 5 16 5s16-2.239 16-5v-6c0 2.761-7.163 5-16 5z\"></path>\n",
       "</symbol>\n",
       "<symbol id=\"icon-file-text2\" viewBox=\"0 0 32 32\">\n",
       "<path d=\"M28.681 7.159c-0.694-0.947-1.662-2.053-2.724-3.116s-2.169-2.030-3.116-2.724c-1.612-1.182-2.393-1.319-2.841-1.319h-15.5c-1.378 0-2.5 1.121-2.5 2.5v27c0 1.378 1.122 2.5 2.5 2.5h23c1.378 0 2.5-1.122 2.5-2.5v-19.5c0-0.448-0.137-1.23-1.319-2.841zM24.543 5.457c0.959 0.959 1.712 1.825 2.268 2.543h-4.811v-4.811c0.718 0.556 1.584 1.309 2.543 2.268zM28 29.5c0 0.271-0.229 0.5-0.5 0.5h-23c-0.271 0-0.5-0.229-0.5-0.5v-27c0-0.271 0.229-0.5 0.5-0.5 0 0 15.499-0 15.5 0v7c0 0.552 0.448 1 1 1h7v19.5z\"></path>\n",
       "<path d=\"M23 26h-14c-0.552 0-1-0.448-1-1s0.448-1 1-1h14c0.552 0 1 0.448 1 1s-0.448 1-1 1z\"></path>\n",
       "<path d=\"M23 22h-14c-0.552 0-1-0.448-1-1s0.448-1 1-1h14c0.552 0 1 0.448 1 1s-0.448 1-1 1z\"></path>\n",
       "<path d=\"M23 18h-14c-0.552 0-1-0.448-1-1s0.448-1 1-1h14c0.552 0 1 0.448 1 1s-0.448 1-1 1z\"></path>\n",
       "</symbol>\n",
       "</defs>\n",
       "</svg>\n",
       "<style>/* CSS stylesheet for displaying xarray objects in jupyterlab.\n",
       " *\n",
       " */\n",
       "\n",
       ":root {\n",
       "  --xr-font-color0: var(--jp-content-font-color0, rgba(0, 0, 0, 1));\n",
       "  --xr-font-color2: var(--jp-content-font-color2, rgba(0, 0, 0, 0.54));\n",
       "  --xr-font-color3: var(--jp-content-font-color3, rgba(0, 0, 0, 0.38));\n",
       "  --xr-border-color: var(--jp-border-color2, #e0e0e0);\n",
       "  --xr-disabled-color: var(--jp-layout-color3, #bdbdbd);\n",
       "  --xr-background-color: var(--jp-layout-color0, white);\n",
       "  --xr-background-color-row-even: var(--jp-layout-color1, white);\n",
       "  --xr-background-color-row-odd: var(--jp-layout-color2, #eeeeee);\n",
       "}\n",
       "\n",
       "html[theme=dark],\n",
       "body.vscode-dark {\n",
       "  --xr-font-color0: rgba(255, 255, 255, 1);\n",
       "  --xr-font-color2: rgba(255, 255, 255, 0.54);\n",
       "  --xr-font-color3: rgba(255, 255, 255, 0.38);\n",
       "  --xr-border-color: #1F1F1F;\n",
       "  --xr-disabled-color: #515151;\n",
       "  --xr-background-color: #111111;\n",
       "  --xr-background-color-row-even: #111111;\n",
       "  --xr-background-color-row-odd: #313131;\n",
       "}\n",
       "\n",
       ".xr-wrap {\n",
       "  display: block;\n",
       "  min-width: 300px;\n",
       "  max-width: 700px;\n",
       "}\n",
       "\n",
       ".xr-text-repr-fallback {\n",
       "  /* fallback to plain text repr when CSS is not injected (untrusted notebook) */\n",
       "  display: none;\n",
       "}\n",
       "\n",
       ".xr-header {\n",
       "  padding-top: 6px;\n",
       "  padding-bottom: 6px;\n",
       "  margin-bottom: 4px;\n",
       "  border-bottom: solid 1px var(--xr-border-color);\n",
       "}\n",
       "\n",
       ".xr-header > div,\n",
       ".xr-header > ul {\n",
       "  display: inline;\n",
       "  margin-top: 0;\n",
       "  margin-bottom: 0;\n",
       "}\n",
       "\n",
       ".xr-obj-type,\n",
       ".xr-array-name {\n",
       "  margin-left: 2px;\n",
       "  margin-right: 10px;\n",
       "}\n",
       "\n",
       ".xr-obj-type {\n",
       "  color: var(--xr-font-color2);\n",
       "}\n",
       "\n",
       ".xr-sections {\n",
       "  padding-left: 0 !important;\n",
       "  display: grid;\n",
       "  grid-template-columns: 150px auto auto 1fr 20px 20px;\n",
       "}\n",
       "\n",
       ".xr-section-item {\n",
       "  display: contents;\n",
       "}\n",
       "\n",
       ".xr-section-item input {\n",
       "  display: none;\n",
       "}\n",
       "\n",
       ".xr-section-item input + label {\n",
       "  color: var(--xr-disabled-color);\n",
       "}\n",
       "\n",
       ".xr-section-item input:enabled + label {\n",
       "  cursor: pointer;\n",
       "  color: var(--xr-font-color2);\n",
       "}\n",
       "\n",
       ".xr-section-item input:enabled + label:hover {\n",
       "  color: var(--xr-font-color0);\n",
       "}\n",
       "\n",
       ".xr-section-summary {\n",
       "  grid-column: 1;\n",
       "  color: var(--xr-font-color2);\n",
       "  font-weight: 500;\n",
       "}\n",
       "\n",
       ".xr-section-summary > span {\n",
       "  display: inline-block;\n",
       "  padding-left: 0.5em;\n",
       "}\n",
       "\n",
       ".xr-section-summary-in:disabled + label {\n",
       "  color: var(--xr-font-color2);\n",
       "}\n",
       "\n",
       ".xr-section-summary-in + label:before {\n",
       "  display: inline-block;\n",
       "  content: '►';\n",
       "  font-size: 11px;\n",
       "  width: 15px;\n",
       "  text-align: center;\n",
       "}\n",
       "\n",
       ".xr-section-summary-in:disabled + label:before {\n",
       "  color: var(--xr-disabled-color);\n",
       "}\n",
       "\n",
       ".xr-section-summary-in:checked + label:before {\n",
       "  content: '▼';\n",
       "}\n",
       "\n",
       ".xr-section-summary-in:checked + label > span {\n",
       "  display: none;\n",
       "}\n",
       "\n",
       ".xr-section-summary,\n",
       ".xr-section-inline-details {\n",
       "  padding-top: 4px;\n",
       "  padding-bottom: 4px;\n",
       "}\n",
       "\n",
       ".xr-section-inline-details {\n",
       "  grid-column: 2 / -1;\n",
       "}\n",
       "\n",
       ".xr-section-details {\n",
       "  display: none;\n",
       "  grid-column: 1 / -1;\n",
       "  margin-bottom: 5px;\n",
       "}\n",
       "\n",
       ".xr-section-summary-in:checked ~ .xr-section-details {\n",
       "  display: contents;\n",
       "}\n",
       "\n",
       ".xr-array-wrap {\n",
       "  grid-column: 1 / -1;\n",
       "  display: grid;\n",
       "  grid-template-columns: 20px auto;\n",
       "}\n",
       "\n",
       ".xr-array-wrap > label {\n",
       "  grid-column: 1;\n",
       "  vertical-align: top;\n",
       "}\n",
       "\n",
       ".xr-preview {\n",
       "  color: var(--xr-font-color3);\n",
       "}\n",
       "\n",
       ".xr-array-preview,\n",
       ".xr-array-data {\n",
       "  padding: 0 5px !important;\n",
       "  grid-column: 2;\n",
       "}\n",
       "\n",
       ".xr-array-data,\n",
       ".xr-array-in:checked ~ .xr-array-preview {\n",
       "  display: none;\n",
       "}\n",
       "\n",
       ".xr-array-in:checked ~ .xr-array-data,\n",
       ".xr-array-preview {\n",
       "  display: inline-block;\n",
       "}\n",
       "\n",
       ".xr-dim-list {\n",
       "  display: inline-block !important;\n",
       "  list-style: none;\n",
       "  padding: 0 !important;\n",
       "  margin: 0;\n",
       "}\n",
       "\n",
       ".xr-dim-list li {\n",
       "  display: inline-block;\n",
       "  padding: 0;\n",
       "  margin: 0;\n",
       "}\n",
       "\n",
       ".xr-dim-list:before {\n",
       "  content: '(';\n",
       "}\n",
       "\n",
       ".xr-dim-list:after {\n",
       "  content: ')';\n",
       "}\n",
       "\n",
       ".xr-dim-list li:not(:last-child):after {\n",
       "  content: ',';\n",
       "  padding-right: 5px;\n",
       "}\n",
       "\n",
       ".xr-has-index {\n",
       "  font-weight: bold;\n",
       "}\n",
       "\n",
       ".xr-var-list,\n",
       ".xr-var-item {\n",
       "  display: contents;\n",
       "}\n",
       "\n",
       ".xr-var-item > div,\n",
       ".xr-var-item label,\n",
       ".xr-var-item > .xr-var-name span {\n",
       "  background-color: var(--xr-background-color-row-even);\n",
       "  margin-bottom: 0;\n",
       "}\n",
       "\n",
       ".xr-var-item > .xr-var-name:hover span {\n",
       "  padding-right: 5px;\n",
       "}\n",
       "\n",
       ".xr-var-list > li:nth-child(odd) > div,\n",
       ".xr-var-list > li:nth-child(odd) > label,\n",
       ".xr-var-list > li:nth-child(odd) > .xr-var-name span {\n",
       "  background-color: var(--xr-background-color-row-odd);\n",
       "}\n",
       "\n",
       ".xr-var-name {\n",
       "  grid-column: 1;\n",
       "}\n",
       "\n",
       ".xr-var-dims {\n",
       "  grid-column: 2;\n",
       "}\n",
       "\n",
       ".xr-var-dtype {\n",
       "  grid-column: 3;\n",
       "  text-align: right;\n",
       "  color: var(--xr-font-color2);\n",
       "}\n",
       "\n",
       ".xr-var-preview {\n",
       "  grid-column: 4;\n",
       "}\n",
       "\n",
       ".xr-var-name,\n",
       ".xr-var-dims,\n",
       ".xr-var-dtype,\n",
       ".xr-preview,\n",
       ".xr-attrs dt {\n",
       "  white-space: nowrap;\n",
       "  overflow: hidden;\n",
       "  text-overflow: ellipsis;\n",
       "  padding-right: 10px;\n",
       "}\n",
       "\n",
       ".xr-var-name:hover,\n",
       ".xr-var-dims:hover,\n",
       ".xr-var-dtype:hover,\n",
       ".xr-attrs dt:hover {\n",
       "  overflow: visible;\n",
       "  width: auto;\n",
       "  z-index: 1;\n",
       "}\n",
       "\n",
       ".xr-var-attrs,\n",
       ".xr-var-data {\n",
       "  display: none;\n",
       "  background-color: var(--xr-background-color) !important;\n",
       "  padding-bottom: 5px !important;\n",
       "}\n",
       "\n",
       ".xr-var-attrs-in:checked ~ .xr-var-attrs,\n",
       ".xr-var-data-in:checked ~ .xr-var-data {\n",
       "  display: block;\n",
       "}\n",
       "\n",
       ".xr-var-data > table {\n",
       "  float: right;\n",
       "}\n",
       "\n",
       ".xr-var-name span,\n",
       ".xr-var-data,\n",
       ".xr-attrs {\n",
       "  padding-left: 25px !important;\n",
       "}\n",
       "\n",
       ".xr-attrs,\n",
       ".xr-var-attrs,\n",
       ".xr-var-data {\n",
       "  grid-column: 1 / -1;\n",
       "}\n",
       "\n",
       "dl.xr-attrs {\n",
       "  padding: 0;\n",
       "  margin: 0;\n",
       "  display: grid;\n",
       "  grid-template-columns: 125px auto;\n",
       "}\n",
       "\n",
       ".xr-attrs dt,\n",
       ".xr-attrs dd {\n",
       "  padding: 0;\n",
       "  margin: 0;\n",
       "  float: left;\n",
       "  padding-right: 10px;\n",
       "  width: auto;\n",
       "}\n",
       "\n",
       ".xr-attrs dt {\n",
       "  font-weight: normal;\n",
       "  grid-column: 1;\n",
       "}\n",
       "\n",
       ".xr-attrs dt:hover span {\n",
       "  display: inline-block;\n",
       "  background: var(--xr-background-color);\n",
       "  padding-right: 10px;\n",
       "}\n",
       "\n",
       ".xr-attrs dd {\n",
       "  grid-column: 2;\n",
       "  white-space: pre-wrap;\n",
       "  word-break: break-all;\n",
       "}\n",
       "\n",
       ".xr-icon-database,\n",
       ".xr-icon-file-text2 {\n",
       "  display: inline-block;\n",
       "  vertical-align: middle;\n",
       "  width: 1em;\n",
       "  height: 1.5em !important;\n",
       "  stroke-width: 0;\n",
       "  stroke: currentColor;\n",
       "  fill: currentColor;\n",
       "}\n",
       "</style><pre class='xr-text-repr-fallback'>&lt;xarray.Dataset&gt;\n",
       "Dimensions:    (y: 627, x: 3562)\n",
       "Coordinates:\n",
       "    nav_lon    (y, x) float64 ...\n",
       "    nav_lat    (y, x) float32 ...\n",
       "Dimensions without coordinates: y, x\n",
       "Data variables:\n",
       "    mask_nest  (y, x) float64 ...</pre><div class='xr-wrap' hidden><div class='xr-header'><div class='xr-obj-type'>xarray.Dataset</div></div><ul class='xr-sections'><li class='xr-section-item'><input id='section-d3813e31-c762-491e-8d5f-1e18033c45d6' class='xr-section-summary-in' type='checkbox' disabled ><label for='section-d3813e31-c762-491e-8d5f-1e18033c45d6' class='xr-section-summary'  title='Expand/collapse section'>Dimensions:</label><div class='xr-section-inline-details'><ul class='xr-dim-list'><li><span>y</span>: 627</li><li><span>x</span>: 3562</li></ul></div><div class='xr-section-details'></div></li><li class='xr-section-item'><input id='section-52c0c30c-a0d8-4b31-9ed2-32ec38592083' class='xr-section-summary-in' type='checkbox'  checked><label for='section-52c0c30c-a0d8-4b31-9ed2-32ec38592083' class='xr-section-summary' >Coordinates: <span>(2)</span></label><div class='xr-section-inline-details'></div><div class='xr-section-details'><ul class='xr-var-list'><li class='xr-var-item'><div class='xr-var-name'><span>nav_lon</span></div><div class='xr-var-dims'>(y, x)</div><div class='xr-var-dtype'>float64</div><div class='xr-var-preview xr-preview'>...</div><input id='attrs-c01999d3-48bc-4e1b-88c6-d19d039f420d' class='xr-var-attrs-in' type='checkbox' disabled><label for='attrs-c01999d3-48bc-4e1b-88c6-d19d039f420d' title='Show/Hide attributes'><svg class='icon xr-icon-file-text2'><use xlink:href='#icon-file-text2'></use></svg></label><input id='data-c8ae3fd7-96bc-4716-9e66-0aeb77bf0171' class='xr-var-data-in' type='checkbox'><label for='data-c8ae3fd7-96bc-4716-9e66-0aeb77bf0171' title='Show/Hide data repr'><svg class='icon xr-icon-database'><use xlink:href='#icon-database'></use></svg></label><div class='xr-var-attrs'><dl class='xr-attrs'></dl></div><div class='xr-var-data'><pre>[2233374 values with dtype=float64]</pre></div></li><li class='xr-var-item'><div class='xr-var-name'><span>nav_lat</span></div><div class='xr-var-dims'>(y, x)</div><div class='xr-var-dtype'>float32</div><div class='xr-var-preview xr-preview'>...</div><input id='attrs-f091e9e1-cf69-4709-b3bc-5e102f9e1ca0' class='xr-var-attrs-in' type='checkbox' disabled><label for='attrs-f091e9e1-cf69-4709-b3bc-5e102f9e1ca0' title='Show/Hide attributes'><svg class='icon xr-icon-file-text2'><use xlink:href='#icon-file-text2'></use></svg></label><input id='data-ea665bcb-81bf-49a3-885c-07908c4abf17' class='xr-var-data-in' type='checkbox'><label for='data-ea665bcb-81bf-49a3-885c-07908c4abf17' title='Show/Hide data repr'><svg class='icon xr-icon-database'><use xlink:href='#icon-database'></use></svg></label><div class='xr-var-attrs'><dl class='xr-attrs'></dl></div><div class='xr-var-data'><pre>[2233374 values with dtype=float32]</pre></div></li></ul></div></li><li class='xr-section-item'><input id='section-0db176ec-0adc-4651-9364-17480dbb6d23' class='xr-section-summary-in' type='checkbox'  checked><label for='section-0db176ec-0adc-4651-9364-17480dbb6d23' class='xr-section-summary' >Data variables: <span>(1)</span></label><div class='xr-section-inline-details'></div><div class='xr-section-details'><ul class='xr-var-list'><li class='xr-var-item'><div class='xr-var-name'><span>mask_nest</span></div><div class='xr-var-dims'>(y, x)</div><div class='xr-var-dtype'>float64</div><div class='xr-var-preview xr-preview'>...</div><input id='attrs-2e4d587d-6ed0-46e0-abcb-439b828deb6f' class='xr-var-attrs-in' type='checkbox' disabled><label for='attrs-2e4d587d-6ed0-46e0-abcb-439b828deb6f' title='Show/Hide attributes'><svg class='icon xr-icon-file-text2'><use xlink:href='#icon-file-text2'></use></svg></label><input id='data-caee3944-731d-45be-b9f1-65ebf181c914' class='xr-var-data-in' type='checkbox'><label for='data-caee3944-731d-45be-b9f1-65ebf181c914' title='Show/Hide data repr'><svg class='icon xr-icon-database'><use xlink:href='#icon-database'></use></svg></label><div class='xr-var-attrs'><dl class='xr-attrs'></dl></div><div class='xr-var-data'><pre>[2233374 values with dtype=float64]</pre></div></li></ul></div></li><li class='xr-section-item'><input id='section-59c2ce0a-a6ce-4f0c-b4ed-ac217f8aece6' class='xr-section-summary-in' type='checkbox' disabled ><label for='section-59c2ce0a-a6ce-4f0c-b4ed-ac217f8aece6' class='xr-section-summary'  title='Expand/collapse section'>Attributes: <span>(0)</span></label><div class='xr-section-inline-details'></div><div class='xr-section-details'><dl class='xr-attrs'></dl></div></li></ul></div></div>"
      ],
      "text/plain": [
       "<xarray.Dataset>\n",
       "Dimensions:    (y: 627, x: 3562)\n",
       "Coordinates:\n",
       "    nav_lon    (y, x) float64 ...\n",
       "    nav_lat    (y, x) float32 ...\n",
       "Dimensions without coordinates: y, x\n",
       "Data variables:\n",
       "    mask_nest  (y, x) float64 ..."
      ]
     },
     "execution_count": 3,
     "metadata": {},
     "output_type": "execute_result"
    }
   ],
   "source": [
    "mask_acc"
   ]
  },
  {
   "cell_type": "code",
   "execution_count": 4,
   "id": "d789f05e",
   "metadata": {},
   "outputs": [],
   "source": [
    "mask_plot = mask_acc.mask_nest.where(mask_acc.mask_nest ==0, other=1)\n",
    "\n",
    "mask_plot = mask_plot.where(mask_plot.nav_lat >= -65, other=0)"
   ]
  },
  {
   "cell_type": "code",
   "execution_count": 8,
   "id": "f440a9ca",
   "metadata": {},
   "outputs": [
    {
     "data": {
      "text/plain": [
       "<matplotlib.collections.QuadMesh at 0x2aaae7746580>"
      ]
     },
     "execution_count": 8,
     "metadata": {},
     "output_type": "execute_result"
    },
    {
     "data": {
      "image/png": "[encoded data removed]",
      "text/plain": [
       "<Figure size 432x288 with 2 Axes>"
      ]
     },
     "metadata": {
      "needs_background": "light"
     },
     "output_type": "display_data"
    }
   ],
   "source": [
    "mask_acc.mask_nest.plot()"
   ]
  },
  {
   "cell_type": "code",
   "execution_count": 15,
   "id": "b231cd19",
   "metadata": {},
   "outputs": [],
   "source": [
    "mask_plot.to_netcdf('/scratch/usr/shkifmmp/master/data/ORION10/mask/mask_acc.nc')"
   ]
  },
  {
   "cell_type": "code",
   "execution_count": 14,
   "id": "3522cdd5",
   "metadata": {},
   "outputs": [
    {
     "data": {
      "text/plain": [
       "\u001b[0;31mSignature:\u001b[0m \u001b[0mmask_plot\u001b[0m\u001b[0;34m.\u001b[0m\u001b[0mto_netcdf\u001b[0m\u001b[0;34m(\u001b[0m\u001b[0;34m*\u001b[0m\u001b[0margs\u001b[0m\u001b[0;34m,\u001b[0m \u001b[0;34m**\u001b[0m\u001b[0mkwargs\u001b[0m\u001b[0;34m)\u001b[0m \u001b[0;34m->\u001b[0m \u001b[0mUnion\u001b[0m\u001b[0;34m[\u001b[0m\u001b[0mbytes\u001b[0m\u001b[0;34m,\u001b[0m \u001b[0mForwardRef\u001b[0m\u001b[0;34m(\u001b[0m\u001b[0;34m'Delayed'\u001b[0m\u001b[0;34m)\u001b[0m\u001b[0;34m,\u001b[0m \u001b[0mNoneType\u001b[0m\u001b[0;34m]\u001b[0m\u001b[0;34m\u001b[0m\u001b[0;34m\u001b[0m\u001b[0m\n",
       "\u001b[0;31mDocstring:\u001b[0m\n",
       "Write DataArray contents to a netCDF file.\n",
       "\n",
       "All parameters are passed directly to :py:meth:`xarray.Dataset.to_netcdf`.\n",
       "\n",
       "Notes\n",
       "-----\n",
       "Only xarray.Dataset objects can be written to netCDF files, so\n",
       "the xarray.DataArray is converted to a xarray.Dataset object\n",
       "containing a single variable. If the DataArray has no name, or if the\n",
       "name is the same as a coordinate name, then it is given the name\n",
       "``\"__xarray_dataarray_variable__\"``.\n",
       "\n",
       "See Also\n",
       "--------\n",
       "Dataset.to_netcdf\n",
       "\u001b[0;31mFile:\u001b[0m      ~/miniconda3/envs/py3_eddy/lib/python3.8/site-packages/xarray/core/dataarray.py\n",
       "\u001b[0;31mType:\u001b[0m      method\n"
      ]
     },
     "metadata": {},
     "output_type": "display_data"
    }
   ],
   "source": [
    "mask_plot.to_netcdf?"
   ]
  },
  {
   "cell_type": "code",
   "execution_count": null,
   "id": "7bdd26df",
   "metadata": {},
   "outputs": [],
   "source": [
    "mask_plot.to_netcdf()"
   ]
  },
  {
   "cell_type": "code",
   "execution_count": 5,
   "id": "49e68885",
   "metadata": {},
   "outputs": [],
   "source": [
    "def create_stat(model, typed, year_finished = 2018):\n",
    "    \n",
    "    \"\"\" \n",
    "        model == 0 > EXP05 elif == 1 EXP06\n",
    "        typed == 0 > ACC / elif == 1 WHOLE REGION\n",
    "    \"\"\"\n",
    "    \n",
    "    folder = 'EXP05' if model == 0 else 'EXP06'\n",
    "    \n",
    "    if (typed == 0) & (model == 0):\n",
    "        with open(path_EXP05_old + 'track_dict_19580101_' + str(year_finished) + '1231_tracks_typed' + str(typed) \n",
    "                  + '.pickle', 'rb') as f:\n",
    "            tracks = pickle.load(f)\n",
    "        f.close()\n",
    "    else:\n",
    "        with open(datapath + folder + '/detected/track_dict_19580101_' + str(year_finished) + '1231_tracks_typed' + str(typed) \n",
    "                  + '.pickle', 'rb') as f:\n",
    "            tracks = pickle.load(f)\n",
    "        f.close()     \n",
    "    \n",
    "    eddy_stat = pd.DataFrame.from_dict(tracks, orient = 'index').drop(['eddy_j', 'eddy_i'], axis=1)\n",
    "    \n",
    "    for i in eddy_stat.index:\n",
    "        eddy_stat.iloc[i, 'life_time'] = pd.to_datetime(eddy_stat.time.iloc[i][-1]) - pd.to_datetime(eddy_stat.time.iloc[i][0])\n",
    "    \n",
    "    eddy_stat = eddy_stat.loc[(eddy_stat['exist_at_start'] ==  False) & (eddy_stat.terminated == True)]\n",
    "    \n",
    "    for i in eddy_stat.index:\n",
    "        lat = [eddy_stat.loc[i, 'lat'][0], eddy_stat.loc[i, 'lat'][-1]]\n",
    "        lon = [eddy_stat.loc[i, 'lon'][0], eddy_stat.loc[i, 'lon'][-1]]\n",
    "        eddy_stat.loc[i, 'distance'] = sw.extras.dist(lat,lon)[0]\n",
    "        #eddy_stat.loc[i, 'speed'] = eddy_stat.loc[i, 'distance'] / eddy_stat.loc[i, 'life_time']\n",
    "        eddy_stat.loc[i, 'speed'] = (eddy_stat.loc[i, 'distance'] *1e5)/ (eddy_stat.loc[i, 'life_time'].days * 24 * 3600) # cm/s\n",
    "#         eddy_stat.loc[i, 'angle'] = (sw.extras.dist(eddy_stat.loc[i, 'lat'], eddy_stat.loc[i, 'lon'])[1]).mean()\n",
    "        eddy_stat.loc[i, 'area_mean'] = eddy_stat.loc[i, 'area'].mean()\n",
    "        eddy_stat.loc[i, 'area_max'] = eddy_stat.loc[i, 'area'].max()\n",
    "        eddy_stat.loc[i, 'amp_mean'] = eddy_stat.loc[i, 'amp'].mean()\n",
    "        eddy_stat.loc[i, 'amp_max'] = eddy_stat.loc[i, 'amp'].max()\n",
    "        eddy_stat.loc[i, 'scale_mean'] = eddy_stat.loc[i, 'scale'].mean()\n",
    "        eddy_stat.loc[i, 'scale_min'] = eddy_stat.loc[i, 'scale'].min()\n",
    "        eddy_stat.loc[i, 'scale_max'] = eddy_stat.loc[i, 'scale'].max()\n",
    "        eddy_stat.loc[i, 'year_i'] = pd.to_datetime(eddy_stat.time.loc[i][0]).year\n",
    "        eddy_stat.loc[i, 'year_f'] = pd.to_datetime(eddy_stat.time.loc[i][-1]).year\n",
    "        \n",
    "    eddy_stat.to_pickle(path= datapath + folder + '/detected/stat_' + folder + '_acc_1958_' + str(year_finished) +'.pkl')\n",
    "    \n",
    "    return eddy_stat"
   ]
  },
  {
   "cell_type": "code",
   "execution_count": 14,
   "id": "cd980609",
   "metadata": {},
   "outputs": [
    {
     "data": {
      "text/plain": [
       "'/scratch/usr/shkifmmp/manusc/data/EXP06/detected/stat_EXP06_acc_1958_1996.pkl'"
      ]
     },
     "execution_count": 14,
     "metadata": {},
     "output_type": "execute_result"
    }
   ],
   "source": [
    "# folder='EXP06'\n",
    "# year_finished=1996\n",
    "\n",
    "# datapath + folder + '/detected/stat_' + folder + '_acc_1958_' + str(year_finished) +'.pkl'"
   ]
  },
  {
   "cell_type": "code",
   "execution_count": 4,
   "id": "b8abf3f3",
   "metadata": {
    "jupyter": {
     "source_hidden": true
    }
   },
   "outputs": [],
   "source": [
    "def create_stat_old():\n",
    "    with open(path_EXP05_old + 'case9_19780101_19971231_tracks_OW0.3_77.5_69.5.pickle', 'rb') as f:\n",
    "            tracks = pickle.load(f)\n",
    "    f.close()\n",
    "    \n",
    "    eddy_stat = pd.DataFrame.from_dict(tracks, orient = 'index').drop(['eddy_j', 'eddy_i'], axis=1)\n",
    "    \n",
    "    for i in eddy_stat.index:\n",
    "        eddy_stat.loc[i, 'life_time'] = pd.to_datetime(eddy_stat.time.iloc[i][-1]) - pd.to_datetime(eddy_stat.time.iloc[i][0])\n",
    "    \n",
    "    eddy_stat = eddy_stat.loc[(eddy_stat['exist_at_start'] ==  False) & (eddy_stat.terminated == True)]\n",
    "    \n",
    "    for i in eddy_stat.index:\n",
    "        lat = [eddy_stat.loc[i, 'lat'][0], eddy_stat.loc[i, 'lat'][-1]]\n",
    "        lon = [eddy_stat.loc[i, 'lon'][0], eddy_stat.loc[i, 'lon'][-1]]\n",
    "        eddy_stat.loc[i, 'distance'] = sw.extras.dist(lat,lon)[0]\n",
    "        #eddy_stat.loc[i, 'speed'] = eddy_stat.loc[i, 'distance'] / eddy_stat.loc[i, 'life_time']\n",
    "        eddy_stat.loc[i, 'speed'] = (eddy_stat.loc[i, 'distance'] *1e5)/ (eddy_stat.loc[i, 'life_time'].days * 24 * 3600) # cm/s\n",
    "#         eddy_stat.loc[i, 'angle'] = (sw.extras.dist(eddy_stat.loc[i, 'lat'], eddy_stat.loc[i, 'lon'])[1]).mean()\n",
    "        eddy_stat.loc[i, 'area_mean'] = eddy_stat.loc[i, 'area'].mean()\n",
    "        eddy_stat.loc[i, 'area_max'] = eddy_stat.loc[i, 'area'].max()\n",
    "        eddy_stat.loc[i, 'amp_mean'] = eddy_stat.loc[i, 'amp'].mean()\n",
    "        eddy_stat.loc[i, 'amp_max'] = eddy_stat.loc[i, 'amp'].max()\n",
    "        eddy_stat.loc[i, 'area_max'] = eddy_stat.loc[i, 'area'].max()\n",
    "        eddy_stat.loc[i, 'scale_mean'] = eddy_stat.loc[i, 'scale'].mean()\n",
    "        eddy_stat.loc[i, 'scale_min'] = eddy_stat.loc[i, 'scale'].min()\n",
    "        eddy_stat.loc[i, 'scale_max'] = eddy_stat.loc[i, 'scale'].max()\n",
    "        \n",
    "    return eddy_stat"
   ]
  },
  {
   "cell_type": "code",
   "execution_count": null,
   "id": "cb89e4b7",
   "metadata": {},
   "outputs": [],
   "source": [
    "stat_06 = create_stat(model=1, typed=0, year_finished=2018)"
   ]
  },
  {
   "cell_type": "code",
   "execution_count": null,
   "id": "664b7ef0",
   "metadata": {},
   "outputs": [],
   "source": [
    "stat_05_78.to_pickle(path= datapath + 'EXP05/detected/stat_05_acc_1978_1997.pkl')"
   ]
  },
  {
   "cell_type": "code",
   "execution_count": null,
   "id": "348ffd93",
   "metadata": {},
   "outputs": [],
   "source": [
    "for i in stat_05_78.index:\n",
    "        stat_05_78.loc[i, 'year_i'] = pd.to_datetime(stat_05_78.time.iloc[i][0]).year\n",
    "        stat_05_78.loc[i, 'year_f'] = pd.to_datetime(stat_05_78.time.iloc[i][-1]).year"
   ]
  },
  {
   "cell_type": "code",
   "execution_count": null,
   "id": "3a23cd30",
   "metadata": {},
   "outputs": [],
   "source": [
    "folder\n",
    "stat_05_78.to_pickle(path= datapath + 'EXP05/detected/stat_05_acc_1978_1997.pkl')"
   ]
  },
  {
   "cell_type": "markdown",
   "id": "9b0b32b4",
   "metadata": {},
   "source": [
    "### time series"
   ]
  },
  {
   "cell_type": "markdown",
   "id": "7ea11902",
   "metadata": {},
   "source": [
    "### OBSERVATIONS\n",
    "Get all eddies within the mask"
   ]
  },
  {
   "cell_type": "code",
   "execution_count": 28,
   "id": "4218dd72",
   "metadata": {},
   "outputs": [],
   "source": [
    "# def adjust_longitude(long): # change to 0-360 longitude range FOR THE META DATA\n",
    "#     func = lambda x: (-x + 180) % 360\n",
    "#     return xr.apply_ufunc(func, long)"
   ]
  },
  {
   "cell_type": "code",
   "execution_count": 24,
   "id": "7c7cc548",
   "metadata": {},
   "outputs": [],
   "source": [
    "# meta20_dt = xr.open_dataset(datapath + 'obs/eddy_trajectory_dt_2.0_19930101_20200307.nc')\n",
    "\n",
    "# track_eddy = xr.open_dataset(datapath + 'obs/trackeddy_V1-0_global_eddies.nc').drop(['area_gaussian','angle','angle_gaussian',\n",
    "#                                                                                     'gaussian_spread_x','gaussian_spread_y', 'level'])\n",
    "\n",
    "# t_eddy = track_eddy.where(track_eddy.maxima_loc_y<= -30, drop=True)\n",
    "\n",
    "# t_eddy.to_netcdf(path= datapath + 'obs/trackeddy_30S.nc')\n",
    "\n",
    "# meta = meta20_dt.where(meta20_dt.latitude<= -30, drop=True)\n",
    "\n",
    "# meta.to_netcdf(path= datapath + 'obs/eddy_DT_30S.nc')"
   ]
  },
  {
   "cell_type": "code",
   "execution_count": 4,
   "id": "1cc1d21b",
   "metadata": {},
   "outputs": [],
   "source": [
    "# meta = xr.open_dataset(datapath + 'obs/eddy_DT_30S.nc')"
   ]
  },
  {
   "cell_type": "code",
   "execution_count": 16,
   "id": "dcaa3f33",
   "metadata": {},
   "outputs": [],
   "source": [
    "# meta = meta.where(meta.latitude>= -67.9824, drop=True)"
   ]
  },
  {
   "cell_type": "code",
   "execution_count": 17,
   "id": "749471ba",
   "metadata": {},
   "outputs": [],
   "source": [
    "# meta.to_netcdf(path= datapath + 'obs/eddy_DT_30S_67S.nc')"
   ]
  },
  {
   "cell_type": "code",
   "execution_count": null,
   "id": "fec99ba6",
   "metadata": {},
   "outputs": [],
   "source": [
    "# x = np.arange(-47,372,1) # change to 0-360 longitude range\n",
    "# y = (-x + 180) % 360\n",
    "# plt.plot(x,y)"
   ]
  },
  {
   "cell_type": "code",
   "execution_count": null,
   "id": "f9d47566",
   "metadata": {},
   "outputs": [],
   "source": [
    "# meta.update({'longitude': adjust_longitude(meta.longitude)})"
   ]
  },
  {
   "cell_type": "code",
   "execution_count": 47,
   "id": "07c6ba19",
   "metadata": {},
   "outputs": [],
   "source": [
    "# meta.to_netcdf(path= datapath + 'obs/eddy_DT_30S.nc')"
   ]
  },
  {
   "cell_type": "code",
   "execution_count": 44,
   "id": "7ccf454d",
   "metadata": {},
   "outputs": [],
   "source": [
    "track_e_S = xr.open_dataset(datapath + 'obs/trackeddy_30S.nc')"
   ]
  },
  {
   "cell_type": "code",
   "execution_count": 52,
   "id": "124ad137",
   "metadata": {},
   "outputs": [
    {
     "data": {
      "text/html": [
       "<div><svg style=\"position: absolute; width: 0; height: 0; overflow: hidden\">\n",
       "<defs>\n",
       "<symbol id=\"icon-database\" viewBox=\"0 0 32 32\">\n",
       "<path d=\"M16 0c-8.837 0-16 2.239-16 5v4c0 2.761 7.163 5 16 5s16-2.239 16-5v-4c0-2.761-7.163-5-16-5z\"></path>\n",
       "<path d=\"M16 17c-8.837 0-16-2.239-16-5v6c0 2.761 7.163 5 16 5s16-2.239 16-5v-6c0 2.761-7.163 5-16 5z\"></path>\n",
       "<path d=\"M16 26c-8.837 0-16-2.239-16-5v6c0 2.761 7.163 5 16 5s16-2.239 16-5v-6c0 2.761-7.163 5-16 5z\"></path>\n",
       "</symbol>\n",
       "<symbol id=\"icon-file-text2\" viewBox=\"0 0 32 32\">\n",
       "<path d=\"M28.681 7.159c-0.694-0.947-1.662-2.053-2.724-3.116s-2.169-2.030-3.116-2.724c-1.612-1.182-2.393-1.319-2.841-1.319h-15.5c-1.378 0-2.5 1.121-2.5 2.5v27c0 1.378 1.122 2.5 2.5 2.5h23c1.378 0 2.5-1.122 2.5-2.5v-19.5c0-0.448-0.137-1.23-1.319-2.841zM24.543 5.457c0.959 0.959 1.712 1.825 2.268 2.543h-4.811v-4.811c0.718 0.556 1.584 1.309 2.543 2.268zM28 29.5c0 0.271-0.229 0.5-0.5 0.5h-23c-0.271 0-0.5-0.229-0.5-0.5v-27c0-0.271 0.229-0.5 0.5-0.5 0 0 15.499-0 15.5 0v7c0 0.552 0.448 1 1 1h7v19.5z\"></path>\n",
       "<path d=\"M23 26h-14c-0.552 0-1-0.448-1-1s0.448-1 1-1h14c0.552 0 1 0.448 1 1s-0.448 1-1 1z\"></path>\n",
       "<path d=\"M23 22h-14c-0.552 0-1-0.448-1-1s0.448-1 1-1h14c0.552 0 1 0.448 1 1s-0.448 1-1 1z\"></path>\n",
       "<path d=\"M23 18h-14c-0.552 0-1-0.448-1-1s0.448-1 1-1h14c0.552 0 1 0.448 1 1s-0.448 1-1 1z\"></path>\n",
       "</symbol>\n",
       "</defs>\n",
       "</svg>\n",
       "<style>/* CSS stylesheet for displaying xarray objects in jupyterlab.\n",
       " *\n",
       " */\n",
       "\n",
       ":root {\n",
       "  --xr-font-color0: var(--jp-content-font-color0, rgba(0, 0, 0, 1));\n",
       "  --xr-font-color2: var(--jp-content-font-color2, rgba(0, 0, 0, 0.54));\n",
       "  --xr-font-color3: var(--jp-content-font-color3, rgba(0, 0, 0, 0.38));\n",
       "  --xr-border-color: var(--jp-border-color2, #e0e0e0);\n",
       "  --xr-disabled-color: var(--jp-layout-color3, #bdbdbd);\n",
       "  --xr-background-color: var(--jp-layout-color0, white);\n",
       "  --xr-background-color-row-even: var(--jp-layout-color1, white);\n",
       "  --xr-background-color-row-odd: var(--jp-layout-color2, #eeeeee);\n",
       "}\n",
       "\n",
       "html[theme=dark],\n",
       "body.vscode-dark {\n",
       "  --xr-font-color0: rgba(255, 255, 255, 1);\n",
       "  --xr-font-color2: rgba(255, 255, 255, 0.54);\n",
       "  --xr-font-color3: rgba(255, 255, 255, 0.38);\n",
       "  --xr-border-color: #1F1F1F;\n",
       "  --xr-disabled-color: #515151;\n",
       "  --xr-background-color: #111111;\n",
       "  --xr-background-color-row-even: #111111;\n",
       "  --xr-background-color-row-odd: #313131;\n",
       "}\n",
       "\n",
       ".xr-wrap {\n",
       "  display: block;\n",
       "  min-width: 300px;\n",
       "  max-width: 700px;\n",
       "}\n",
       "\n",
       ".xr-text-repr-fallback {\n",
       "  /* fallback to plain text repr when CSS is not injected (untrusted notebook) */\n",
       "  display: none;\n",
       "}\n",
       "\n",
       ".xr-header {\n",
       "  padding-top: 6px;\n",
       "  padding-bottom: 6px;\n",
       "  margin-bottom: 4px;\n",
       "  border-bottom: solid 1px var(--xr-border-color);\n",
       "}\n",
       "\n",
       ".xr-header > div,\n",
       ".xr-header > ul {\n",
       "  display: inline;\n",
       "  margin-top: 0;\n",
       "  margin-bottom: 0;\n",
       "}\n",
       "\n",
       ".xr-obj-type,\n",
       ".xr-array-name {\n",
       "  margin-left: 2px;\n",
       "  margin-right: 10px;\n",
       "}\n",
       "\n",
       ".xr-obj-type {\n",
       "  color: var(--xr-font-color2);\n",
       "}\n",
       "\n",
       ".xr-sections {\n",
       "  padding-left: 0 !important;\n",
       "  display: grid;\n",
       "  grid-template-columns: 150px auto auto 1fr 20px 20px;\n",
       "}\n",
       "\n",
       ".xr-section-item {\n",
       "  display: contents;\n",
       "}\n",
       "\n",
       ".xr-section-item input {\n",
       "  display: none;\n",
       "}\n",
       "\n",
       ".xr-section-item input + label {\n",
       "  color: var(--xr-disabled-color);\n",
       "}\n",
       "\n",
       ".xr-section-item input:enabled + label {\n",
       "  cursor: pointer;\n",
       "  color: var(--xr-font-color2);\n",
       "}\n",
       "\n",
       ".xr-section-item input:enabled + label:hover {\n",
       "  color: var(--xr-font-color0);\n",
       "}\n",
       "\n",
       ".xr-section-summary {\n",
       "  grid-column: 1;\n",
       "  color: var(--xr-font-color2);\n",
       "  font-weight: 500;\n",
       "}\n",
       "\n",
       ".xr-section-summary > span {\n",
       "  display: inline-block;\n",
       "  padding-left: 0.5em;\n",
       "}\n",
       "\n",
       ".xr-section-summary-in:disabled + label {\n",
       "  color: var(--xr-font-color2);\n",
       "}\n",
       "\n",
       ".xr-section-summary-in + label:before {\n",
       "  display: inline-block;\n",
       "  content: '►';\n",
       "  font-size: 11px;\n",
       "  width: 15px;\n",
       "  text-align: center;\n",
       "}\n",
       "\n",
       ".xr-section-summary-in:disabled + label:before {\n",
       "  color: var(--xr-disabled-color);\n",
       "}\n",
       "\n",
       ".xr-section-summary-in:checked + label:before {\n",
       "  content: '▼';\n",
       "}\n",
       "\n",
       ".xr-section-summary-in:checked + label > span {\n",
       "  display: none;\n",
       "}\n",
       "\n",
       ".xr-section-summary,\n",
       ".xr-section-inline-details {\n",
       "  padding-top: 4px;\n",
       "  padding-bottom: 4px;\n",
       "}\n",
       "\n",
       ".xr-section-inline-details {\n",
       "  grid-column: 2 / -1;\n",
       "}\n",
       "\n",
       ".xr-section-details {\n",
       "  display: none;\n",
       "  grid-column: 1 / -1;\n",
       "  margin-bottom: 5px;\n",
       "}\n",
       "\n",
       ".xr-section-summary-in:checked ~ .xr-section-details {\n",
       "  display: contents;\n",
       "}\n",
       "\n",
       ".xr-array-wrap {\n",
       "  grid-column: 1 / -1;\n",
       "  display: grid;\n",
       "  grid-template-columns: 20px auto;\n",
       "}\n",
       "\n",
       ".xr-array-wrap > label {\n",
       "  grid-column: 1;\n",
       "  vertical-align: top;\n",
       "}\n",
       "\n",
       ".xr-preview {\n",
       "  color: var(--xr-font-color3);\n",
       "}\n",
       "\n",
       ".xr-array-preview,\n",
       ".xr-array-data {\n",
       "  padding: 0 5px !important;\n",
       "  grid-column: 2;\n",
       "}\n",
       "\n",
       ".xr-array-data,\n",
       ".xr-array-in:checked ~ .xr-array-preview {\n",
       "  display: none;\n",
       "}\n",
       "\n",
       ".xr-array-in:checked ~ .xr-array-data,\n",
       ".xr-array-preview {\n",
       "  display: inline-block;\n",
       "}\n",
       "\n",
       ".xr-dim-list {\n",
       "  display: inline-block !important;\n",
       "  list-style: none;\n",
       "  padding: 0 !important;\n",
       "  margin: 0;\n",
       "}\n",
       "\n",
       ".xr-dim-list li {\n",
       "  display: inline-block;\n",
       "  padding: 0;\n",
       "  margin: 0;\n",
       "}\n",
       "\n",
       ".xr-dim-list:before {\n",
       "  content: '(';\n",
       "}\n",
       "\n",
       ".xr-dim-list:after {\n",
       "  content: ')';\n",
       "}\n",
       "\n",
       ".xr-dim-list li:not(:last-child):after {\n",
       "  content: ',';\n",
       "  padding-right: 5px;\n",
       "}\n",
       "\n",
       ".xr-has-index {\n",
       "  font-weight: bold;\n",
       "}\n",
       "\n",
       ".xr-var-list,\n",
       ".xr-var-item {\n",
       "  display: contents;\n",
       "}\n",
       "\n",
       ".xr-var-item > div,\n",
       ".xr-var-item label,\n",
       ".xr-var-item > .xr-var-name span {\n",
       "  background-color: var(--xr-background-color-row-even);\n",
       "  margin-bottom: 0;\n",
       "}\n",
       "\n",
       ".xr-var-item > .xr-var-name:hover span {\n",
       "  padding-right: 5px;\n",
       "}\n",
       "\n",
       ".xr-var-list > li:nth-child(odd) > div,\n",
       ".xr-var-list > li:nth-child(odd) > label,\n",
       ".xr-var-list > li:nth-child(odd) > .xr-var-name span {\n",
       "  background-color: var(--xr-background-color-row-odd);\n",
       "}\n",
       "\n",
       ".xr-var-name {\n",
       "  grid-column: 1;\n",
       "}\n",
       "\n",
       ".xr-var-dims {\n",
       "  grid-column: 2;\n",
       "}\n",
       "\n",
       ".xr-var-dtype {\n",
       "  grid-column: 3;\n",
       "  text-align: right;\n",
       "  color: var(--xr-font-color2);\n",
       "}\n",
       "\n",
       ".xr-var-preview {\n",
       "  grid-column: 4;\n",
       "}\n",
       "\n",
       ".xr-var-name,\n",
       ".xr-var-dims,\n",
       ".xr-var-dtype,\n",
       ".xr-preview,\n",
       ".xr-attrs dt {\n",
       "  white-space: nowrap;\n",
       "  overflow: hidden;\n",
       "  text-overflow: ellipsis;\n",
       "  padding-right: 10px;\n",
       "}\n",
       "\n",
       ".xr-var-name:hover,\n",
       ".xr-var-dims:hover,\n",
       ".xr-var-dtype:hover,\n",
       ".xr-attrs dt:hover {\n",
       "  overflow: visible;\n",
       "  width: auto;\n",
       "  z-index: 1;\n",
       "}\n",
       "\n",
       ".xr-var-attrs,\n",
       ".xr-var-data {\n",
       "  display: none;\n",
       "  background-color: var(--xr-background-color) !important;\n",
       "  padding-bottom: 5px !important;\n",
       "}\n",
       "\n",
       ".xr-var-attrs-in:checked ~ .xr-var-attrs,\n",
       ".xr-var-data-in:checked ~ .xr-var-data {\n",
       "  display: block;\n",
       "}\n",
       "\n",
       ".xr-var-data > table {\n",
       "  float: right;\n",
       "}\n",
       "\n",
       ".xr-var-name span,\n",
       ".xr-var-data,\n",
       ".xr-attrs {\n",
       "  padding-left: 25px !important;\n",
       "}\n",
       "\n",
       ".xr-attrs,\n",
       ".xr-var-attrs,\n",
       ".xr-var-data {\n",
       "  grid-column: 1 / -1;\n",
       "}\n",
       "\n",
       "dl.xr-attrs {\n",
       "  padding: 0;\n",
       "  margin: 0;\n",
       "  display: grid;\n",
       "  grid-template-columns: 125px auto;\n",
       "}\n",
       "\n",
       ".xr-attrs dt,\n",
       ".xr-attrs dd {\n",
       "  padding: 0;\n",
       "  margin: 0;\n",
       "  float: left;\n",
       "  padding-right: 10px;\n",
       "  width: auto;\n",
       "}\n",
       "\n",
       ".xr-attrs dt {\n",
       "  font-weight: normal;\n",
       "  grid-column: 1;\n",
       "}\n",
       "\n",
       ".xr-attrs dt:hover span {\n",
       "  display: inline-block;\n",
       "  background: var(--xr-background-color);\n",
       "  padding-right: 10px;\n",
       "}\n",
       "\n",
       ".xr-attrs dd {\n",
       "  grid-column: 2;\n",
       "  white-space: pre-wrap;\n",
       "  word-break: break-all;\n",
       "}\n",
       "\n",
       ".xr-icon-database,\n",
       ".xr-icon-file-text2 {\n",
       "  display: inline-block;\n",
       "  vertical-align: middle;\n",
       "  width: 1em;\n",
       "  height: 1.5em !important;\n",
       "  stroke-width: 0;\n",
       "  stroke: currentColor;\n",
       "  fill: currentColor;\n",
       "}\n",
       "</style><pre class='xr-text-repr-fallback'>&lt;xarray.Dataset&gt;\n",
       "Dimensions:            (obs: 4974084)\n",
       "Coordinates:\n",
       "    nav_lon            (obs) float64 ...\n",
       "    nav_lat            (obs) float32 ...\n",
       "Dimensions without coordinates: obs\n",
       "Data variables:\n",
       "    neddy              (obs) float64 2.764e+07 2.934e+07 ... 1.028e+07 1.028e+07\n",
       "    time_tracking      (obs) timedelta64[ns] ...\n",
       "    center_mass_loc_x  (obs) float64 ...\n",
       "    center_mass_loc_y  (obs) float64 ...\n",
       "    area_eddy          (obs) float64 ...\n",
       "    longitude          (obs) float64 ...\n",
       "    latitude           (obs) float64 ...\n",
       "    eddy_amplitude     (obs) float64 ...\n",
       "    time               (obs) datetime64[ns] ...\n",
       "Attributes: (12/22)\n",
       "    summary:              Eddy atlas from gridded data AVISO+ over global ocean\n",
       "    comment:              Surface product; mesoscale eddies\n",
       "    date_created:         2019-08-5T15:51Z\n",
       "    time_coverage_start:  1993-01-01T00:00:00Z\n",
       "    time_coverage_end:    2017-12-31T00:00:00Z\n",
       "    Conventions:          CF-1.7, ACDD-1.3\n",
       "    ...                   ...\n",
       "    product_version:      1.0\n",
       "    institution:          Australian National University - ANU\n",
       "    publisher_email:      paola.petrelli@utas.edu.au\n",
       "    id:                   http://doi.org/10.25914/5cb6859e4df3e\n",
       "    history:              Wed Sep 11 15:29:21 2019: ncap2 -s neddy=double(ned...\n",
       "    NCO:                  netCDF Operators version 4.7.7 (Homepage = http://n...</pre><div class='xr-wrap' hidden><div class='xr-header'><div class='xr-obj-type'>xarray.Dataset</div></div><ul class='xr-sections'><li class='xr-section-item'><input id='section-0dba906b-ae0f-41e0-bb8f-e87a6443c5ba' class='xr-section-summary-in' type='checkbox' disabled ><label for='section-0dba906b-ae0f-41e0-bb8f-e87a6443c5ba' class='xr-section-summary'  title='Expand/collapse section'>Dimensions:</label><div class='xr-section-inline-details'><ul class='xr-dim-list'><li><span>obs</span>: 4974084</li></ul></div><div class='xr-section-details'></div></li><li class='xr-section-item'><input id='section-9ed0b4d6-25f3-46d0-bed1-07c996241472' class='xr-section-summary-in' type='checkbox'  checked><label for='section-9ed0b4d6-25f3-46d0-bed1-07c996241472' class='xr-section-summary' >Coordinates: <span>(2)</span></label><div class='xr-section-inline-details'></div><div class='xr-section-details'><ul class='xr-var-list'><li class='xr-var-item'><div class='xr-var-name'><span>nav_lon</span></div><div class='xr-var-dims'>(obs)</div><div class='xr-var-dtype'>float64</div><div class='xr-var-preview xr-preview'>...</div><input id='attrs-dca407d5-9443-4d8d-8b0f-ceac5abdd52a' class='xr-var-attrs-in' type='checkbox' disabled><label for='attrs-dca407d5-9443-4d8d-8b0f-ceac5abdd52a' title='Show/Hide attributes'><svg class='icon xr-icon-file-text2'><use xlink:href='#icon-file-text2'></use></svg></label><input id='data-c9b649cd-3d71-4375-b729-d74988d5bb74' class='xr-var-data-in' type='checkbox'><label for='data-c9b649cd-3d71-4375-b729-d74988d5bb74' title='Show/Hide data repr'><svg class='icon xr-icon-database'><use xlink:href='#icon-database'></use></svg></label><div class='xr-var-attrs'><dl class='xr-attrs'></dl></div><div class='xr-var-data'><pre>[4974084 values with dtype=float64]</pre></div></li><li class='xr-var-item'><div class='xr-var-name'><span>nav_lat</span></div><div class='xr-var-dims'>(obs)</div><div class='xr-var-dtype'>float32</div><div class='xr-var-preview xr-preview'>...</div><input id='attrs-d6c9e94e-7862-4bee-aa0f-1181789f4873' class='xr-var-attrs-in' type='checkbox' disabled><label for='attrs-d6c9e94e-7862-4bee-aa0f-1181789f4873' title='Show/Hide attributes'><svg class='icon xr-icon-file-text2'><use xlink:href='#icon-file-text2'></use></svg></label><input id='data-39f5615e-a142-4ca8-8eec-21c1e42f3214' class='xr-var-data-in' type='checkbox'><label for='data-39f5615e-a142-4ca8-8eec-21c1e42f3214' title='Show/Hide data repr'><svg class='icon xr-icon-database'><use xlink:href='#icon-database'></use></svg></label><div class='xr-var-attrs'><dl class='xr-attrs'></dl></div><div class='xr-var-data'><pre>[4974084 values with dtype=float32]</pre></div></li></ul></div></li><li class='xr-section-item'><input id='section-b9600b7b-a4d9-4a8b-b887-0fbdea25829c' class='xr-section-summary-in' type='checkbox'  checked><label for='section-b9600b7b-a4d9-4a8b-b887-0fbdea25829c' class='xr-section-summary' >Data variables: <span>(9)</span></label><div class='xr-section-inline-details'></div><div class='xr-section-details'><ul class='xr-var-list'><li class='xr-var-item'><div class='xr-var-name'><span>neddy</span></div><div class='xr-var-dims'>(obs)</div><div class='xr-var-dtype'>float64</div><div class='xr-var-preview xr-preview'>2.764e+07 2.934e+07 ... 1.028e+07</div><input id='attrs-8b343cb6-6ffd-4944-a3cd-2cdf4fed5ab3' class='xr-var-attrs-in' type='checkbox' ><label for='attrs-8b343cb6-6ffd-4944-a3cd-2cdf4fed5ab3' title='Show/Hide attributes'><svg class='icon xr-icon-file-text2'><use xlink:href='#icon-file-text2'></use></svg></label><input id='data-bcf4e3de-fd86-41cf-bd49-8a62c0075e5d' class='xr-var-data-in' type='checkbox'><label for='data-bcf4e3de-fd86-41cf-bd49-8a62c0075e5d' title='Show/Hide data repr'><svg class='icon xr-icon-database'><use xlink:href='#icon-database'></use></svg></label><div class='xr-var-attrs'><dl class='xr-attrs'><dt><span>description :</span></dt><dd>observation sequence number, individual eddy identifier</dd><dt><span>long_name :</span></dt><dd>individual eddy identifier</dd><dt><span>max :</span></dt><dd>337204323</dd><dt><span>min :</span></dt><dd>0</dd><dt><span>units :</span></dt><dd>1</dd></dl></div><div class='xr-var-data'><pre>array([27639671., 29342267., 29604134., ..., 10281965., 10281966., 10281967.])</pre></div></li><li class='xr-var-item'><div class='xr-var-name'><span>time_tracking</span></div><div class='xr-var-dims'>(obs)</div><div class='xr-var-dtype'>timedelta64[ns]</div><div class='xr-var-preview xr-preview'>...</div><input id='attrs-d5bac53d-599b-46b1-b6bc-4c5cee982596' class='xr-var-attrs-in' type='checkbox' ><label for='attrs-d5bac53d-599b-46b1-b6bc-4c5cee982596' title='Show/Hide attributes'><svg class='icon xr-icon-file-text2'><use xlink:href='#icon-file-text2'></use></svg></label><input id='data-0cd70e70-5473-43fb-89a9-81e7d3631b21' class='xr-var-data-in' type='checkbox'><label for='data-0cd70e70-5473-43fb-89a9-81e7d3631b21' title='Show/Hide data repr'><svg class='icon xr-icon-database'><use xlink:href='#icon-database'></use></svg></label><div class='xr-var-attrs'><dl class='xr-attrs'><dt><span>description :</span></dt><dd>time in days from 1993-01-01 in which eddy was identified</dd><dt><span>long_name :</span></dt><dd>identification time</dd></dl></div><div class='xr-var-data'><pre>[4974084 values with dtype=timedelta64[ns]]</pre></div></li><li class='xr-var-item'><div class='xr-var-name'><span>center_mass_loc_x</span></div><div class='xr-var-dims'>(obs)</div><div class='xr-var-dtype'>float64</div><div class='xr-var-preview xr-preview'>...</div><input id='attrs-a427ee64-62e1-4be8-9f42-5bd162c65424' class='xr-var-attrs-in' type='checkbox' ><label for='attrs-a427ee64-62e1-4be8-9f42-5bd162c65424' title='Show/Hide attributes'><svg class='icon xr-icon-file-text2'><use xlink:href='#icon-file-text2'></use></svg></label><input id='data-acb9e7dc-815a-4852-935d-305d35aeef96' class='xr-var-data-in' type='checkbox'><label for='data-acb9e7dc-815a-4852-935d-305d35aeef96' title='Show/Hide data repr'><svg class='icon xr-icon-database'><use xlink:href='#icon-database'></use></svg></label><div class='xr-var-attrs'><dl class='xr-attrs'><dt><span>standard_name :</span></dt><dd>longitude</dd><dt><span>units :</span></dt><dd>degrees_east</dd><dt><span>long_name :</span></dt><dd>longitude of eddy center of mass</dd></dl></div><div class='xr-var-data'><pre>[4974084 values with dtype=float64]</pre></div></li><li class='xr-var-item'><div class='xr-var-name'><span>center_mass_loc_y</span></div><div class='xr-var-dims'>(obs)</div><div class='xr-var-dtype'>float64</div><div class='xr-var-preview xr-preview'>...</div><input id='attrs-c6386cd5-d53b-4122-96b8-504e32a6d13c' class='xr-var-attrs-in' type='checkbox' ><label for='attrs-c6386cd5-d53b-4122-96b8-504e32a6d13c' title='Show/Hide attributes'><svg class='icon xr-icon-file-text2'><use xlink:href='#icon-file-text2'></use></svg></label><input id='data-2272adb1-51aa-4a4e-a025-06463356986d' class='xr-var-data-in' type='checkbox'><label for='data-2272adb1-51aa-4a4e-a025-06463356986d' title='Show/Hide data repr'><svg class='icon xr-icon-database'><use xlink:href='#icon-database'></use></svg></label><div class='xr-var-attrs'><dl class='xr-attrs'><dt><span>standard_name :</span></dt><dd>latitude</dd><dt><span>units :</span></dt><dd>degrees_north</dd><dt><span>long_name :</span></dt><dd>latitude of eddy center of mass</dd></dl></div><div class='xr-var-data'><pre>[4974084 values with dtype=float64]</pre></div></li><li class='xr-var-item'><div class='xr-var-name'><span>area_eddy</span></div><div class='xr-var-dims'>(obs)</div><div class='xr-var-dtype'>float64</div><div class='xr-var-preview xr-preview'>...</div><input id='attrs-e68de833-db15-4022-9c27-7f88e6daf4e6' class='xr-var-attrs-in' type='checkbox' ><label for='attrs-e68de833-db15-4022-9c27-7f88e6daf4e6' title='Show/Hide attributes'><svg class='icon xr-icon-file-text2'><use xlink:href='#icon-file-text2'></use></svg></label><input id='data-06a8ff38-d0af-415e-a1e3-2f69a39e43a6' class='xr-var-data-in' type='checkbox'><label for='data-06a8ff38-d0af-415e-a1e3-2f69a39e43a6' title='Show/Hide data repr'><svg class='icon xr-icon-database'><use xlink:href='#icon-database'></use></svg></label><div class='xr-var-attrs'><dl class='xr-attrs'><dt><span>units :</span></dt><dd>m2</dd><dt><span>long_name :</span></dt><dd>Area of rectangle containing the eddy contour.</dd></dl></div><div class='xr-var-data'><pre>[4974084 values with dtype=float64]</pre></div></li><li class='xr-var-item'><div class='xr-var-name'><span>longitude</span></div><div class='xr-var-dims'>(obs)</div><div class='xr-var-dtype'>float64</div><div class='xr-var-preview xr-preview'>...</div><input id='attrs-8d6218c3-4185-485f-b92f-c42798b6ab0d' class='xr-var-attrs-in' type='checkbox' ><label for='attrs-8d6218c3-4185-485f-b92f-c42798b6ab0d' title='Show/Hide attributes'><svg class='icon xr-icon-file-text2'><use xlink:href='#icon-file-text2'></use></svg></label><input id='data-0ec66db9-2035-4150-be30-9df4ddf4b5b7' class='xr-var-data-in' type='checkbox'><label for='data-0ec66db9-2035-4150-be30-9df4ddf4b5b7' title='Show/Hide data repr'><svg class='icon xr-icon-database'><use xlink:href='#icon-database'></use></svg></label><div class='xr-var-attrs'><dl class='xr-attrs'><dt><span>description :</span></dt><dd>observation longitude</dd><dt><span>standard_name :</span></dt><dd>longitude</dd><dt><span>units :</span></dt><dd>degrees_east</dd><dt><span>min :</span></dt><dd>0</dd><dt><span>max :</span></dt><dd>359.99</dd><dt><span>long_name :</span></dt><dd>longitude of measurement</dd></dl></div><div class='xr-var-data'><pre>[4974084 values with dtype=float64]</pre></div></li><li class='xr-var-item'><div class='xr-var-name'><span>latitude</span></div><div class='xr-var-dims'>(obs)</div><div class='xr-var-dtype'>float64</div><div class='xr-var-preview xr-preview'>...</div><input id='attrs-39784895-0660-45c9-b75d-f6f8c1711f46' class='xr-var-attrs-in' type='checkbox' ><label for='attrs-39784895-0660-45c9-b75d-f6f8c1711f46' title='Show/Hide attributes'><svg class='icon xr-icon-file-text2'><use xlink:href='#icon-file-text2'></use></svg></label><input id='data-af915742-5127-4400-a32d-8a1fcefeebd5' class='xr-var-data-in' type='checkbox'><label for='data-af915742-5127-4400-a32d-8a1fcefeebd5' title='Show/Hide data repr'><svg class='icon xr-icon-database'><use xlink:href='#icon-database'></use></svg></label><div class='xr-var-attrs'><dl class='xr-attrs'><dt><span>description :</span></dt><dd>observation latitude</dd><dt><span>standard_name :</span></dt><dd>latitude</dd><dt><span>units :</span></dt><dd>degrees_north</dd><dt><span>min :</span></dt><dd>-78</dd><dt><span>max :</span></dt><dd>79</dd><dt><span>long_name :</span></dt><dd>latitude of measurement</dd></dl></div><div class='xr-var-data'><pre>[4974084 values with dtype=float64]</pre></div></li><li class='xr-var-item'><div class='xr-var-name'><span>eddy_amplitude</span></div><div class='xr-var-dims'>(obs)</div><div class='xr-var-dtype'>float64</div><div class='xr-var-preview xr-preview'>...</div><input id='attrs-e0e1a86f-acf4-4856-b637-782581931531' class='xr-var-attrs-in' type='checkbox' ><label for='attrs-e0e1a86f-acf4-4856-b637-782581931531' title='Show/Hide attributes'><svg class='icon xr-icon-file-text2'><use xlink:href='#icon-file-text2'></use></svg></label><input id='data-b487e4de-58a3-4681-9c78-2cec1c8b6a0c' class='xr-var-data-in' type='checkbox'><label for='data-b487e4de-58a3-4681-9c78-2cec1c8b6a0c' title='Show/Hide data repr'><svg class='icon xr-icon-database'><use xlink:href='#icon-database'></use></svg></label><div class='xr-var-attrs'><dl class='xr-attrs'><dt><span>description :</span></dt><dd>magnitude of the extremum of SLA within the eddy</dd><dt><span>units :</span></dt><dd>m</dd><dt><span>long_name :</span></dt><dd>eddy amplitude</dd></dl></div><div class='xr-var-data'><pre>[4974084 values with dtype=float64]</pre></div></li><li class='xr-var-item'><div class='xr-var-name'><span>time</span></div><div class='xr-var-dims'>(obs)</div><div class='xr-var-dtype'>datetime64[ns]</div><div class='xr-var-preview xr-preview'>...</div><input id='attrs-89a280c1-d1e8-4ae6-ae43-4161d6c2c695' class='xr-var-attrs-in' type='checkbox' ><label for='attrs-89a280c1-d1e8-4ae6-ae43-4161d6c2c695' title='Show/Hide attributes'><svg class='icon xr-icon-file-text2'><use xlink:href='#icon-file-text2'></use></svg></label><input id='data-8c34a9ce-2661-4cbd-8d68-8108c20b6c05' class='xr-var-data-in' type='checkbox'><label for='data-8c34a9ce-2661-4cbd-8d68-8108c20b6c05' title='Show/Hide data repr'><svg class='icon xr-icon-database'><use xlink:href='#icon-database'></use></svg></label><div class='xr-var-attrs'><dl class='xr-attrs'><dt><span>standard_name :</span></dt><dd>time</dd></dl></div><div class='xr-var-data'><pre>[4974084 values with dtype=datetime64[ns]]</pre></div></li></ul></div></li><li class='xr-section-item'><input id='section-669ba405-925c-4968-ac4f-b8c2b156bfd9' class='xr-section-summary-in' type='checkbox'  ><label for='section-669ba405-925c-4968-ac4f-b8c2b156bfd9' class='xr-section-summary' >Attributes: <span>(22)</span></label><div class='xr-section-inline-details'></div><div class='xr-section-details'><dl class='xr-attrs'><dt><span>summary :</span></dt><dd>Eddy atlas from gridded data AVISO+ over global ocean</dd><dt><span>comment :</span></dt><dd>Surface product; mesoscale eddies</dd><dt><span>date_created :</span></dt><dd>2019-08-5T15:51Z</dd><dt><span>time_coverage_start :</span></dt><dd>1993-01-01T00:00:00Z</dd><dt><span>time_coverage_end :</span></dt><dd>2017-12-31T00:00:00Z</dd><dt><span>Conventions :</span></dt><dd>CF-1.7, ACDD-1.3</dd><dt><span>source :</span></dt><dd>TrackEddy v1.0 model with https://www.aviso.altimetry.fr/en/data/products/sea-surface-height-products/global/gridded-sea-level-heights-and-derived-variables.html as input</dd><dt><span>license :</span></dt><dd>http://creativecommons.org/licenses/by-nc-sa/4.0/</dd><dt><span>contact :</span></dt><dd>jouse.martinezmoreno@anu.edu.au</dd><dt><span>organisation :</span></dt><dd>ARC Centre of Excellence for Climate Extremes - CLEX</dd><dt><span>references :</span></dt><dd>Martinez Moreno, Josue, 2019: TrackEddy v1.0 output of identified eddies from the AVISO+ satellite altimetry v1.0 . NCI National Research Data Collection , doi:10.25914/5cb6859e4df3e</dd><dt><span>keywords :</span></dt><dd>Coherent eddies, Eddy tracking, Anisotropic Eddies, 040503 - Physical oceanography</dd><dt><span>creator_name :</span></dt><dd>Josue Martinez Moreno</dd><dt><span>creator_email :</span></dt><dd>jouse.martinezmoreno@anu.edu.au</dd><dt><span>publisher_name :</span></dt><dd>CLEX data manager</dd><dt><span>title :</span></dt><dd>TrackEddy v1.0 output of identified eddies from the AVISO+ satellite altimetry v1.0</dd><dt><span>product_version :</span></dt><dd>1.0</dd><dt><span>institution :</span></dt><dd>Australian National University - ANU</dd><dt><span>publisher_email :</span></dt><dd>paola.petrelli@utas.edu.au</dd><dt><span>id :</span></dt><dd>http://doi.org/10.25914/5cb6859e4df3e</dd><dt><span>history :</span></dt><dd>Wed Sep 11 15:29:21 2019: ncap2 -s neddy=double(neddy) trackeddy_V1-0_global_eddies.nc out.nc</dd><dt><span>NCO :</span></dt><dd>netCDF Operators version 4.7.7 (Homepage = http://nco.sf.net, Code = http://github.com/nco/nco)</dd></dl></div></li></ul></div></div>"
      ],
      "text/plain": [
       "<xarray.Dataset>\n",
       "Dimensions:            (obs: 4974084)\n",
       "Coordinates:\n",
       "    nav_lon            (obs) float64 ...\n",
       "    nav_lat            (obs) float32 ...\n",
       "Dimensions without coordinates: obs\n",
       "Data variables:\n",
       "    neddy              (obs) float64 2.764e+07 2.934e+07 ... 1.028e+07 1.028e+07\n",
       "    time_tracking      (obs) timedelta64[ns] ...\n",
       "    center_mass_loc_x  (obs) float64 ...\n",
       "    center_mass_loc_y  (obs) float64 ...\n",
       "    area_eddy          (obs) float64 ...\n",
       "    longitude          (obs) float64 ...\n",
       "    latitude           (obs) float64 ...\n",
       "    eddy_amplitude     (obs) float64 ...\n",
       "    time               (obs) datetime64[ns] ...\n",
       "Attributes: (12/22)\n",
       "    summary:              Eddy atlas from gridded data AVISO+ over global ocean\n",
       "    comment:              Surface product; mesoscale eddies\n",
       "    date_created:         2019-08-5T15:51Z\n",
       "    time_coverage_start:  1993-01-01T00:00:00Z\n",
       "    time_coverage_end:    2017-12-31T00:00:00Z\n",
       "    Conventions:          CF-1.7, ACDD-1.3\n",
       "    ...                   ...\n",
       "    product_version:      1.0\n",
       "    institution:          Australian National University - ANU\n",
       "    publisher_email:      paola.petrelli@utas.edu.au\n",
       "    id:                   http://doi.org/10.25914/5cb6859e4df3e\n",
       "    history:              Wed Sep 11 15:29:21 2019: ncap2 -s neddy=double(ned...\n",
       "    NCO:                  netCDF Operators version 4.7.7 (Homepage = http://n..."
      ]
     },
     "execution_count": 52,
     "metadata": {},
     "output_type": "execute_result"
    }
   ],
   "source": [
    "track_e"
   ]
  },
  {
   "cell_type": "code",
   "execution_count": 51,
   "id": "7a785372",
   "metadata": {},
   "outputs": [
    {
     "data": {
      "text/plain": [
       "DatasetGroupBy, grouped over 'neddy'\n",
       "4974084 groups with labels 3.0, 28.0, ..., 3.72e+07, 3.72e+07."
      ]
     },
     "execution_count": 51,
     "metadata": {},
     "output_type": "execute_result"
    }
   ],
   "source": [
    "track_e.groupby('neddy')"
   ]
  },
  {
   "cell_type": "code",
   "execution_count": 16,
   "id": "e6c9ecf3",
   "metadata": {},
   "outputs": [],
   "source": [
    "# # make mask with lon 0-360\n",
    "# mask_test = mask_plot.where(mask_plot.nav_lon <=360, drop=True)\n",
    "\n",
    "# mask_test_aux = mask_plot.where(mask_plot.nav_lon >360, drop=True)\n",
    "\n",
    "# mask_test_aux.coords['nav_lon'].values = mask_test_aux.nav_lon.values - 360\n",
    "\n",
    "# mask_obs= xr.concat([mask_test_aux, mask_test], 'x')"
   ]
  },
  {
   "cell_type": "code",
   "execution_count": 9,
   "id": "aaddd269",
   "metadata": {},
   "outputs": [],
   "source": [
    "# track_e = track_e.rename({'maxima_loc_x': 'longitude', 'maxima_loc_y': 'latitude'})"
   ]
  },
  {
   "cell_type": "code",
   "execution_count": null,
   "id": "dd00bb8a",
   "metadata": {},
   "outputs": [],
   "source": [
    "# meta.set_coords({'latitude': meta.latitude, 'longitude': meta.longitude})"
   ]
  },
  {
   "cell_type": "code",
   "execution_count": null,
   "id": "23688e18",
   "metadata": {},
   "outputs": [],
   "source": [
    "# meta.sel('latitude' = mask_obs)"
   ]
  },
  {
   "cell_type": "code",
   "execution_count": 17,
   "id": "d825e68a",
   "metadata": {},
   "outputs": [],
   "source": [
    "# mask_obs.xoak.set_index(['nav_lon','nav_lat'], \"sklearn_geo_balltree\")"
   ]
  },
  {
   "cell_type": "code",
   "execution_count": 20,
   "id": "7b847d8c",
   "metadata": {},
   "outputs": [],
   "source": [
    "# lati = meta.latitude.compute()"
   ]
  },
  {
   "cell_type": "code",
   "execution_count": 21,
   "id": "553637f0",
   "metadata": {},
   "outputs": [],
   "source": [
    "# long = meta.longitude.compute()"
   ]
  },
  {
   "cell_type": "code",
   "execution_count": 24,
   "id": "3ab02476",
   "metadata": {},
   "outputs": [
    {
     "name": "stdout",
     "output_type": "stream",
     "text": [
      "CPU times: user 19min 53s, sys: 449 ms, total: 19min 53s\n",
      "Wall time: 19min 56s\n"
     ]
    }
   ],
   "source": [
    "# %%time\n",
    "# meta_xo = mask_obs.xoak.sel(nav_lat= meta.latitude, nav_lon=meta.longitude)"
   ]
  },
  {
   "cell_type": "code",
   "execution_count": 25,
   "id": "b36c6676",
   "metadata": {},
   "outputs": [],
   "source": [
    "# meta_xo = xr.DataArray(data=meta_xo, dims=['obs'])\n",
    "\n",
    "# meta = meta.where(meta_xo, drop=True)\n",
    "\n",
    "# meta.to_netcdf(path=datapath + 'obs/meta_xoak.nc')"
   ]
  },
  {
   "cell_type": "code",
   "execution_count": 27,
   "id": "375846b0",
   "metadata": {},
   "outputs": [],
   "source": [
    "# meta.to_netcdf(path=datapath + 'obs/meta_xoak.nc')"
   ]
  },
  {
   "cell_type": "code",
   "execution_count": 42,
   "id": "cc748c81",
   "metadata": {},
   "outputs": [],
   "source": [
    "# track_e = track_e.reset_index('time').reset_coords('time_').rename({'time': 'obs'})"
   ]
  },
  {
   "cell_type": "code",
   "execution_count": 45,
   "id": "b6fb6eab",
   "metadata": {},
   "outputs": [],
   "source": [
    "# track_e = track_e.rename({'time_': 'time'})"
   ]
  },
  {
   "cell_type": "code",
   "execution_count": 18,
   "id": "393ef8d6",
   "metadata": {},
   "outputs": [
    {
     "name": "stdout",
     "output_type": "stream",
     "text": [
      "CPU times: user 26min 32s, sys: 820 ms, total: 26min 33s\n",
      "Wall time: 26min 36s\n"
     ]
    }
   ],
   "source": [
    "# %%time\n",
    "# track_xo = mask_obs.xoak.sel(nav_lat= track_e.latitude, nav_lon=track_e.longitude)"
   ]
  },
  {
   "cell_type": "code",
   "execution_count": 50,
   "id": "0db9b860",
   "metadata": {},
   "outputs": [],
   "source": [
    "# track_xo = track_xo.rename({'time': 'obs'})"
   ]
  },
  {
   "cell_type": "code",
   "execution_count": 51,
   "id": "1cf25b76",
   "metadata": {},
   "outputs": [],
   "source": [
    "# track_e = track_e.where(track_xo, drop=True)"
   ]
  },
  {
   "cell_type": "code",
   "execution_count": null,
   "id": "99f0d3f1",
   "metadata": {},
   "outputs": [],
   "source": [
    "# meta.to_netcdf(path=datapath + 'obs/meta_xoak.nc')"
   ]
  },
  {
   "cell_type": "code",
   "execution_count": 52,
   "id": "41514395",
   "metadata": {},
   "outputs": [],
   "source": [
    "# track_e.to_netcdf(path=datapath + 'obs/track_e_xoak.nc')"
   ]
  },
  {
   "cell_type": "code",
   "execution_count": null,
   "id": "4793f2cb",
   "metadata": {},
   "outputs": [],
   "source": [
    "# track_e_xo = mask_obs.xoak.sel(nav_lat= track_e.latitude, nav_lon=track_e.longitude).values"
   ]
  },
  {
   "cell_type": "code",
   "execution_count": null,
   "id": "498fa0e5",
   "metadata": {},
   "outputs": [],
   "source": [
    "# # BEFORE RUNNING: CHANNGE THE 'OBS' TO THE EQUIVALENT IN TRACK_E !!!\n",
    "# track_e_xo = xr.DataArray(data=track_e_xo, dims=['obs'])\n",
    "\n",
    "# track_e = meta.where(track_e_xo, drop=True)\n",
    "\n",
    "# track_e.to_netcdf(path=path_obs + 'track_e_xoak.nc')"
   ]
  },
  {
   "cell_type": "code",
   "execution_count": 47,
   "id": "3a50f3f2",
   "metadata": {},
   "outputs": [
    {
     "data": {
      "text/plain": [
       "Timedelta('73 days 00:00:00')"
      ]
     },
     "execution_count": 47,
     "metadata": {},
     "output_type": "execute_result"
    }
   ],
   "source": [
    "# (pd.to_datetime(meta.where(meta.track == 0, drop = True).time[-1].values) - pd.to_datetime(meta.where(meta.track == 0, drop = True).time[0].values))"
   ]
  },
  {
   "cell_type": "code",
   "execution_count": null,
   "id": "def762cf",
   "metadata": {},
   "outputs": [],
   "source": [
    "# (pd.to_datetime(meta20_dt.where(meta20_dt.track == 1,drop=True).groupby('track').first().time) - pd.to_datetime(meta20_dt.where(meta20_dt.track == 1,drop=True).groupby('track').last().time)).astype().astype"
   ]
  },
  {
   "cell_type": "code",
   "execution_count": 29,
   "id": "4dcac602",
   "metadata": {},
   "outputs": [],
   "source": [
    "# track_e = track_e.rename({'maxima_loc_x': 'longitude',\n",
    "#                'maxima_loc_y': 'latitude',\n",
    "#                'eddy_amplitude': 'amplitude',\n",
    "#                'area_eddy': 'area'})"
   ]
  },
  {
   "cell_type": "code",
   "execution_count": null,
   "id": "b5c279ce",
   "metadata": {},
   "outputs": [],
   "source": [
    "# meta.rename({})"
   ]
  },
  {
   "cell_type": "code",
   "execution_count": 21,
   "id": "56825d10",
   "metadata": {},
   "outputs": [
    {
     "data": {
      "text/plain": [
       "numpy.timedelta64(1,'D')"
      ]
     },
     "execution_count": 21,
     "metadata": {},
     "output_type": "execute_result"
    }
   ],
   "source": [
    "# track_e.isel(time=200).time_tracking.values.astype('timedelta64[D]')"
   ]
  },
  {
   "cell_type": "code",
   "execution_count": 55,
   "id": "ce2a8d23",
   "metadata": {},
   "outputs": [],
   "source": [
    "meta = xr.open_dataset(datapath + 'obs/meta_xoak.nc')"
   ]
  },
  {
   "cell_type": "code",
   "execution_count": null,
   "id": "7bdaca63",
   "metadata": {},
   "outputs": [],
   "source": [
    "meta.groupby('track').max()[0:10]"
   ]
  },
  {
   "cell_type": "code",
   "execution_count": 113,
   "id": "228a691e",
   "metadata": {},
   "outputs": [],
   "source": [
    "test = pd.to_datetime(meta.isel(obs=slice(100,200)).groupby('track').last().time) - pd.to_datetime(meta.isel(obs=slice(100,200)).groupby('track').first().time)"
   ]
  },
  {
   "cell_type": "code",
   "execution_count": 100,
   "id": "90d3591a",
   "metadata": {},
   "outputs": [],
   "source": [
    "lat = [meta.isel(obs=slice(100,200)).groupby('track').first().latitude.values, meta.isel(obs=slice(100,200)).groupby('track').last().latitude.values]"
   ]
  },
  {
   "cell_type": "code",
   "execution_count": 89,
   "id": "9461ad9f",
   "metadata": {},
   "outputs": [],
   "source": [
    "lon = [meta.isel(obs=slice(100,200)).groupby('track').first().longitude.values, meta.isel(obs=slice(100,200)).groupby('track').last().longitude]"
   ]
  },
  {
   "cell_type": "code",
   "execution_count": 125,
   "id": "55ec5516",
   "metadata": {},
   "outputs": [],
   "source": [
    "distance = sw.extras.dist(lat,lon)[0][0]"
   ]
  },
  {
   "cell_type": "code",
   "execution_count": 117,
   "id": "1a2aa168",
   "metadata": {},
   "outputs": [],
   "source": [
    "test2 = xr.Dataset(data_vars={'test': ('track', test),\n",
    "    'lala': ('track', distance)})"
   ]
  },
  {
   "cell_type": "code",
   "execution_count": 8,
   "id": "3df0935f",
   "metadata": {},
   "outputs": [],
   "source": [
    "track_e = xr.open_dataset(datapath + 'obs/track_e_xoak.nc')"
   ]
  },
  {
   "cell_type": "code",
   "execution_count": 18,
   "id": "52a117e8",
   "metadata": {},
   "outputs": [
    {
     "data": {
      "text/plain": [
       "array([  1702596.,    261867.,  -5325450., -18336815.,   7811469.,\n",
       "        -4445035.,  -4956784.,  17271067.,  -1058509.,    617924.,\n",
       "       -15555025.,   7162192.,  16077206., -24121920.,  30910060.,\n",
       "       -12877918.,   4947982., -16649370.,  16092484., -22509700.,\n",
       "        19709014.,   1321458., -13818855.,  24255759.,    601098.,\n",
       "        -1860760.,  -7526751.,  -4255898.,  -1548935., -18819421.,\n",
       "        23015171., -20369323.,  11122772.,  19082341., -19820553.,\n",
       "        12025286., -12152517.,  21021040., -17738006.,  13187786.,\n",
       "        -3138491.,   3314651., -14143394.,   4831270.,  -9853073.,\n",
       "        21639963.,  -6263548.,   8423554., -33790439.,  31242445.,\n",
       "        -2998712.,   1657501., -26976883.,  29962641., -15874723.,\n",
       "        -8251849.,  -4306765.,  -5564616.,   1772733.,  15480557.,\n",
       "        14889278., -20864317.,   4152881.,   5037630., -18207487.,\n",
       "        -4259502.,  35086224.,  -2204675., -16657699.,  -7579969.,\n",
       "         -909840.,   2188004.,  11523639.,  -5913331., -13847588.,\n",
       "        28141393.,  -3961563.,   8059356., -29975929.,  30106535.,\n",
       "       -12959668.,   8073738.,  -2603517., -23237541.,   -656677.,\n",
       "         7339769.,  11303256., -11260526.,   1860315.,  22355430.,\n",
       "       -30368680.,   7881026.,   1539588.,  22422164.,  -2433225.,\n",
       "       -24398799.,  21476814.,   5822559., -10169520.])"
      ]
     },
     "execution_count": 18,
     "metadata": {},
     "output_type": "execute_result"
    }
   ],
   "source": [
    "np.diff(track_e.neddy[0:100])"
   ]
  },
  {
   "cell_type": "code",
   "execution_count": 37,
   "id": "07d09210",
   "metadata": {},
   "outputs": [
    {
     "data": {
      "text/html": [
       "<div><svg style=\"position: absolute; width: 0; height: 0; overflow: hidden\">\n",
       "<defs>\n",
       "<symbol id=\"icon-database\" viewBox=\"0 0 32 32\">\n",
       "<path d=\"M16 0c-8.837 0-16 2.239-16 5v4c0 2.761 7.163 5 16 5s16-2.239 16-5v-4c0-2.761-7.163-5-16-5z\"></path>\n",
       "<path d=\"M16 17c-8.837 0-16-2.239-16-5v6c0 2.761 7.163 5 16 5s16-2.239 16-5v-6c0 2.761-7.163 5-16 5z\"></path>\n",
       "<path d=\"M16 26c-8.837 0-16-2.239-16-5v6c0 2.761 7.163 5 16 5s16-2.239 16-5v-6c0 2.761-7.163 5-16 5z\"></path>\n",
       "</symbol>\n",
       "<symbol id=\"icon-file-text2\" viewBox=\"0 0 32 32\">\n",
       "<path d=\"M28.681 7.159c-0.694-0.947-1.662-2.053-2.724-3.116s-2.169-2.030-3.116-2.724c-1.612-1.182-2.393-1.319-2.841-1.319h-15.5c-1.378 0-2.5 1.121-2.5 2.5v27c0 1.378 1.122 2.5 2.5 2.5h23c1.378 0 2.5-1.122 2.5-2.5v-19.5c0-0.448-0.137-1.23-1.319-2.841zM24.543 5.457c0.959 0.959 1.712 1.825 2.268 2.543h-4.811v-4.811c0.718 0.556 1.584 1.309 2.543 2.268zM28 29.5c0 0.271-0.229 0.5-0.5 0.5h-23c-0.271 0-0.5-0.229-0.5-0.5v-27c0-0.271 0.229-0.5 0.5-0.5 0 0 15.499-0 15.5 0v7c0 0.552 0.448 1 1 1h7v19.5z\"></path>\n",
       "<path d=\"M23 26h-14c-0.552 0-1-0.448-1-1s0.448-1 1-1h14c0.552 0 1 0.448 1 1s-0.448 1-1 1z\"></path>\n",
       "<path d=\"M23 22h-14c-0.552 0-1-0.448-1-1s0.448-1 1-1h14c0.552 0 1 0.448 1 1s-0.448 1-1 1z\"></path>\n",
       "<path d=\"M23 18h-14c-0.552 0-1-0.448-1-1s0.448-1 1-1h14c0.552 0 1 0.448 1 1s-0.448 1-1 1z\"></path>\n",
       "</symbol>\n",
       "</defs>\n",
       "</svg>\n",
       "<style>/* CSS stylesheet for displaying xarray objects in jupyterlab.\n",
       " *\n",
       " */\n",
       "\n",
       ":root {\n",
       "  --xr-font-color0: var(--jp-content-font-color0, rgba(0, 0, 0, 1));\n",
       "  --xr-font-color2: var(--jp-content-font-color2, rgba(0, 0, 0, 0.54));\n",
       "  --xr-font-color3: var(--jp-content-font-color3, rgba(0, 0, 0, 0.38));\n",
       "  --xr-border-color: var(--jp-border-color2, #e0e0e0);\n",
       "  --xr-disabled-color: var(--jp-layout-color3, #bdbdbd);\n",
       "  --xr-background-color: var(--jp-layout-color0, white);\n",
       "  --xr-background-color-row-even: var(--jp-layout-color1, white);\n",
       "  --xr-background-color-row-odd: var(--jp-layout-color2, #eeeeee);\n",
       "}\n",
       "\n",
       "html[theme=dark],\n",
       "body.vscode-dark {\n",
       "  --xr-font-color0: rgba(255, 255, 255, 1);\n",
       "  --xr-font-color2: rgba(255, 255, 255, 0.54);\n",
       "  --xr-font-color3: rgba(255, 255, 255, 0.38);\n",
       "  --xr-border-color: #1F1F1F;\n",
       "  --xr-disabled-color: #515151;\n",
       "  --xr-background-color: #111111;\n",
       "  --xr-background-color-row-even: #111111;\n",
       "  --xr-background-color-row-odd: #313131;\n",
       "}\n",
       "\n",
       ".xr-wrap {\n",
       "  display: block;\n",
       "  min-width: 300px;\n",
       "  max-width: 700px;\n",
       "}\n",
       "\n",
       ".xr-text-repr-fallback {\n",
       "  /* fallback to plain text repr when CSS is not injected (untrusted notebook) */\n",
       "  display: none;\n",
       "}\n",
       "\n",
       ".xr-header {\n",
       "  padding-top: 6px;\n",
       "  padding-bottom: 6px;\n",
       "  margin-bottom: 4px;\n",
       "  border-bottom: solid 1px var(--xr-border-color);\n",
       "}\n",
       "\n",
       ".xr-header > div,\n",
       ".xr-header > ul {\n",
       "  display: inline;\n",
       "  margin-top: 0;\n",
       "  margin-bottom: 0;\n",
       "}\n",
       "\n",
       ".xr-obj-type,\n",
       ".xr-array-name {\n",
       "  margin-left: 2px;\n",
       "  margin-right: 10px;\n",
       "}\n",
       "\n",
       ".xr-obj-type {\n",
       "  color: var(--xr-font-color2);\n",
       "}\n",
       "\n",
       ".xr-sections {\n",
       "  padding-left: 0 !important;\n",
       "  display: grid;\n",
       "  grid-template-columns: 150px auto auto 1fr 20px 20px;\n",
       "}\n",
       "\n",
       ".xr-section-item {\n",
       "  display: contents;\n",
       "}\n",
       "\n",
       ".xr-section-item input {\n",
       "  display: none;\n",
       "}\n",
       "\n",
       ".xr-section-item input + label {\n",
       "  color: var(--xr-disabled-color);\n",
       "}\n",
       "\n",
       ".xr-section-item input:enabled + label {\n",
       "  cursor: pointer;\n",
       "  color: var(--xr-font-color2);\n",
       "}\n",
       "\n",
       ".xr-section-item input:enabled + label:hover {\n",
       "  color: var(--xr-font-color0);\n",
       "}\n",
       "\n",
       ".xr-section-summary {\n",
       "  grid-column: 1;\n",
       "  color: var(--xr-font-color2);\n",
       "  font-weight: 500;\n",
       "}\n",
       "\n",
       ".xr-section-summary > span {\n",
       "  display: inline-block;\n",
       "  padding-left: 0.5em;\n",
       "}\n",
       "\n",
       ".xr-section-summary-in:disabled + label {\n",
       "  color: var(--xr-font-color2);\n",
       "}\n",
       "\n",
       ".xr-section-summary-in + label:before {\n",
       "  display: inline-block;\n",
       "  content: '►';\n",
       "  font-size: 11px;\n",
       "  width: 15px;\n",
       "  text-align: center;\n",
       "}\n",
       "\n",
       ".xr-section-summary-in:disabled + label:before {\n",
       "  color: var(--xr-disabled-color);\n",
       "}\n",
       "\n",
       ".xr-section-summary-in:checked + label:before {\n",
       "  content: '▼';\n",
       "}\n",
       "\n",
       ".xr-section-summary-in:checked + label > span {\n",
       "  display: none;\n",
       "}\n",
       "\n",
       ".xr-section-summary,\n",
       ".xr-section-inline-details {\n",
       "  padding-top: 4px;\n",
       "  padding-bottom: 4px;\n",
       "}\n",
       "\n",
       ".xr-section-inline-details {\n",
       "  grid-column: 2 / -1;\n",
       "}\n",
       "\n",
       ".xr-section-details {\n",
       "  display: none;\n",
       "  grid-column: 1 / -1;\n",
       "  margin-bottom: 5px;\n",
       "}\n",
       "\n",
       ".xr-section-summary-in:checked ~ .xr-section-details {\n",
       "  display: contents;\n",
       "}\n",
       "\n",
       ".xr-array-wrap {\n",
       "  grid-column: 1 / -1;\n",
       "  display: grid;\n",
       "  grid-template-columns: 20px auto;\n",
       "}\n",
       "\n",
       ".xr-array-wrap > label {\n",
       "  grid-column: 1;\n",
       "  vertical-align: top;\n",
       "}\n",
       "\n",
       ".xr-preview {\n",
       "  color: var(--xr-font-color3);\n",
       "}\n",
       "\n",
       ".xr-array-preview,\n",
       ".xr-array-data {\n",
       "  padding: 0 5px !important;\n",
       "  grid-column: 2;\n",
       "}\n",
       "\n",
       ".xr-array-data,\n",
       ".xr-array-in:checked ~ .xr-array-preview {\n",
       "  display: none;\n",
       "}\n",
       "\n",
       ".xr-array-in:checked ~ .xr-array-data,\n",
       ".xr-array-preview {\n",
       "  display: inline-block;\n",
       "}\n",
       "\n",
       ".xr-dim-list {\n",
       "  display: inline-block !important;\n",
       "  list-style: none;\n",
       "  padding: 0 !important;\n",
       "  margin: 0;\n",
       "}\n",
       "\n",
       ".xr-dim-list li {\n",
       "  display: inline-block;\n",
       "  padding: 0;\n",
       "  margin: 0;\n",
       "}\n",
       "\n",
       ".xr-dim-list:before {\n",
       "  content: '(';\n",
       "}\n",
       "\n",
       ".xr-dim-list:after {\n",
       "  content: ')';\n",
       "}\n",
       "\n",
       ".xr-dim-list li:not(:last-child):after {\n",
       "  content: ',';\n",
       "  padding-right: 5px;\n",
       "}\n",
       "\n",
       ".xr-has-index {\n",
       "  font-weight: bold;\n",
       "}\n",
       "\n",
       ".xr-var-list,\n",
       ".xr-var-item {\n",
       "  display: contents;\n",
       "}\n",
       "\n",
       ".xr-var-item > div,\n",
       ".xr-var-item label,\n",
       ".xr-var-item > .xr-var-name span {\n",
       "  background-color: var(--xr-background-color-row-even);\n",
       "  margin-bottom: 0;\n",
       "}\n",
       "\n",
       ".xr-var-item > .xr-var-name:hover span {\n",
       "  padding-right: 5px;\n",
       "}\n",
       "\n",
       ".xr-var-list > li:nth-child(odd) > div,\n",
       ".xr-var-list > li:nth-child(odd) > label,\n",
       ".xr-var-list > li:nth-child(odd) > .xr-var-name span {\n",
       "  background-color: var(--xr-background-color-row-odd);\n",
       "}\n",
       "\n",
       ".xr-var-name {\n",
       "  grid-column: 1;\n",
       "}\n",
       "\n",
       ".xr-var-dims {\n",
       "  grid-column: 2;\n",
       "}\n",
       "\n",
       ".xr-var-dtype {\n",
       "  grid-column: 3;\n",
       "  text-align: right;\n",
       "  color: var(--xr-font-color2);\n",
       "}\n",
       "\n",
       ".xr-var-preview {\n",
       "  grid-column: 4;\n",
       "}\n",
       "\n",
       ".xr-var-name,\n",
       ".xr-var-dims,\n",
       ".xr-var-dtype,\n",
       ".xr-preview,\n",
       ".xr-attrs dt {\n",
       "  white-space: nowrap;\n",
       "  overflow: hidden;\n",
       "  text-overflow: ellipsis;\n",
       "  padding-right: 10px;\n",
       "}\n",
       "\n",
       ".xr-var-name:hover,\n",
       ".xr-var-dims:hover,\n",
       ".xr-var-dtype:hover,\n",
       ".xr-attrs dt:hover {\n",
       "  overflow: visible;\n",
       "  width: auto;\n",
       "  z-index: 1;\n",
       "}\n",
       "\n",
       ".xr-var-attrs,\n",
       ".xr-var-data {\n",
       "  display: none;\n",
       "  background-color: var(--xr-background-color) !important;\n",
       "  padding-bottom: 5px !important;\n",
       "}\n",
       "\n",
       ".xr-var-attrs-in:checked ~ .xr-var-attrs,\n",
       ".xr-var-data-in:checked ~ .xr-var-data {\n",
       "  display: block;\n",
       "}\n",
       "\n",
       ".xr-var-data > table {\n",
       "  float: right;\n",
       "}\n",
       "\n",
       ".xr-var-name span,\n",
       ".xr-var-data,\n",
       ".xr-attrs {\n",
       "  padding-left: 25px !important;\n",
       "}\n",
       "\n",
       ".xr-attrs,\n",
       ".xr-var-attrs,\n",
       ".xr-var-data {\n",
       "  grid-column: 1 / -1;\n",
       "}\n",
       "\n",
       "dl.xr-attrs {\n",
       "  padding: 0;\n",
       "  margin: 0;\n",
       "  display: grid;\n",
       "  grid-template-columns: 125px auto;\n",
       "}\n",
       "\n",
       ".xr-attrs dt,\n",
       ".xr-attrs dd {\n",
       "  padding: 0;\n",
       "  margin: 0;\n",
       "  float: left;\n",
       "  padding-right: 10px;\n",
       "  width: auto;\n",
       "}\n",
       "\n",
       ".xr-attrs dt {\n",
       "  font-weight: normal;\n",
       "  grid-column: 1;\n",
       "}\n",
       "\n",
       ".xr-attrs dt:hover span {\n",
       "  display: inline-block;\n",
       "  background: var(--xr-background-color);\n",
       "  padding-right: 10px;\n",
       "}\n",
       "\n",
       ".xr-attrs dd {\n",
       "  grid-column: 2;\n",
       "  white-space: pre-wrap;\n",
       "  word-break: break-all;\n",
       "}\n",
       "\n",
       ".xr-icon-database,\n",
       ".xr-icon-file-text2 {\n",
       "  display: inline-block;\n",
       "  vertical-align: middle;\n",
       "  width: 1em;\n",
       "  height: 1.5em !important;\n",
       "  stroke-width: 0;\n",
       "  stroke: currentColor;\n",
       "  fill: currentColor;\n",
       "}\n",
       "</style><pre class='xr-text-repr-fallback'>&lt;xarray.DataArray &#x27;time&#x27; ()&gt;\n",
       "array(&#x27;2009-03-27T00:00:00.000000000&#x27;, dtype=&#x27;datetime64[ns]&#x27;)\n",
       "Coordinates:\n",
       "    nav_lon  float64 57.1\n",
       "    nav_lat  float32 -44.15\n",
       "Attributes:\n",
       "    standard_name:  time</pre><div class='xr-wrap' hidden><div class='xr-header'><div class='xr-obj-type'>xarray.DataArray</div><div class='xr-array-name'>'time'</div></div><ul class='xr-sections'><li class='xr-section-item'><div class='xr-array-wrap'><input id='section-ba9d41e6-8715-4547-8a58-bc3b157772c2' class='xr-array-in' type='checkbox' checked><label for='section-ba9d41e6-8715-4547-8a58-bc3b157772c2' title='Show/hide data repr'><svg class='icon xr-icon-database'><use xlink:href='#icon-database'></use></svg></label><div class='xr-array-preview xr-preview'><span>2009-03-27</span></div><div class='xr-array-data'><pre>array(&#x27;2009-03-27T00:00:00.000000000&#x27;, dtype=&#x27;datetime64[ns]&#x27;)</pre></div></div></li><li class='xr-section-item'><input id='section-42292bc4-99bc-4a9a-aae3-a593649622ff' class='xr-section-summary-in' type='checkbox'  checked><label for='section-42292bc4-99bc-4a9a-aae3-a593649622ff' class='xr-section-summary' >Coordinates: <span>(2)</span></label><div class='xr-section-inline-details'></div><div class='xr-section-details'><ul class='xr-var-list'><li class='xr-var-item'><div class='xr-var-name'><span>nav_lon</span></div><div class='xr-var-dims'>()</div><div class='xr-var-dtype'>float64</div><div class='xr-var-preview xr-preview'>...</div><input id='attrs-71ec2a3c-ce96-4e13-8979-94f7d186f1c0' class='xr-var-attrs-in' type='checkbox' disabled><label for='attrs-71ec2a3c-ce96-4e13-8979-94f7d186f1c0' title='Show/Hide attributes'><svg class='icon xr-icon-file-text2'><use xlink:href='#icon-file-text2'></use></svg></label><input id='data-ce4173c7-c688-4839-bb4e-c50f62b14f99' class='xr-var-data-in' type='checkbox'><label for='data-ce4173c7-c688-4839-bb4e-c50f62b14f99' title='Show/Hide data repr'><svg class='icon xr-icon-database'><use xlink:href='#icon-database'></use></svg></label><div class='xr-var-attrs'><dl class='xr-attrs'></dl></div><div class='xr-var-data'><pre>array(57.099998)</pre></div></li><li class='xr-var-item'><div class='xr-var-name'><span>nav_lat</span></div><div class='xr-var-dims'>()</div><div class='xr-var-dtype'>float32</div><div class='xr-var-preview xr-preview'>...</div><input id='attrs-fad3e82e-9bf3-4b9a-992f-f8973bd1e1fb' class='xr-var-attrs-in' type='checkbox' disabled><label for='attrs-fad3e82e-9bf3-4b9a-992f-f8973bd1e1fb' title='Show/Hide attributes'><svg class='icon xr-icon-file-text2'><use xlink:href='#icon-file-text2'></use></svg></label><input id='data-a08073c5-148a-414c-a9a5-46ce98c6d088' class='xr-var-data-in' type='checkbox'><label for='data-a08073c5-148a-414c-a9a5-46ce98c6d088' title='Show/Hide data repr'><svg class='icon xr-icon-database'><use xlink:href='#icon-database'></use></svg></label><div class='xr-var-attrs'><dl class='xr-attrs'></dl></div><div class='xr-var-data'><pre>array(-44.145916, dtype=float32)</pre></div></li></ul></div></li><li class='xr-section-item'><input id='section-60d80ad9-798e-4c8e-b1b3-de4062ef4c69' class='xr-section-summary-in' type='checkbox'  checked><label for='section-60d80ad9-798e-4c8e-b1b3-de4062ef4c69' class='xr-section-summary' >Attributes: <span>(1)</span></label><div class='xr-section-inline-details'></div><div class='xr-section-details'><dl class='xr-attrs'><dt><span>standard_name :</span></dt><dd>time</dd></dl></div></li></ul></div></div>"
      ],
      "text/plain": [
       "<xarray.DataArray 'time' ()>\n",
       "array('2009-03-27T00:00:00.000000000', dtype='datetime64[ns]')\n",
       "Coordinates:\n",
       "    nav_lon  float64 ...\n",
       "    nav_lat  float32 ...\n",
       "Attributes:\n",
       "    standard_name:  time"
      ]
     },
     "execution_count": 37,
     "metadata": {},
     "output_type": "execute_result"
    }
   ],
   "source": [
    "track_e.time[3]"
   ]
  },
  {
   "cell_type": "code",
   "execution_count": 4,
   "id": "4bdd2d92",
   "metadata": {},
   "outputs": [],
   "source": [
    "# track_e.time[0:100]"
   ]
  },
  {
   "cell_type": "code",
   "execution_count": 127,
   "id": "a91a75f1",
   "metadata": {},
   "outputs": [],
   "source": [
    "# first get eddies within area\n",
    "def obs_proc_meta(data):\n",
    "    first = data.groupby('track').first()\n",
    "    last = data.groupby('track').last()\n",
    "    mean = data.groupby('track').mean()\n",
    "    maxi = data.groupby('track').max()\n",
    "    \n",
    "    life_time = pd.to_datetime(last.time) - pd.to_datetime(first.time)\n",
    "    amp_max= maxi.amplitude\n",
    "    speed = mean.speed_average\n",
    "    scale_max = maxi.speed_radius * 1e-3 * 2\n",
    "    lat = [first.latitude, last.latitude]\n",
    "    lon = [first.longitude, last.longitude]\n",
    "    distance = sw.extras.dist(lat,lon)[0][0]\n",
    "    \n",
    "    data_pos = xr.Dataset(data_vars={'life_time': ('track', life_time),\n",
    "                         'amp_max': ('track', amp_max),\n",
    "                         'speed': ('track', speed),\n",
    "                         'distance': ('track', distance),\n",
    "                         'scale_max': ('track', scale_max)})\n",
    "    \n",
    "    return data_pos"
   ]
  },
  {
   "cell_type": "code",
   "execution_count": 137,
   "id": "7b929352",
   "metadata": {},
   "outputs": [],
   "source": [
    "first = meta.groupby('track').first()\n",
    "last = meta.groupby('track').last()\n",
    "mean = meta.groupby('track').mean()\n",
    "maxi = meta.groupby('track').max()"
   ]
  },
  {
   "cell_type": "code",
   "execution_count": 138,
   "id": "24d90cc0",
   "metadata": {},
   "outputs": [],
   "source": [
    "life_time_me = pd.to_datetime(last.time) - pd.to_datetime(first.time)"
   ]
  },
  {
   "cell_type": "code",
   "execution_count": 139,
   "id": "b37f6606",
   "metadata": {},
   "outputs": [],
   "source": [
    "amp_max_me= maxi.amplitude"
   ]
  },
  {
   "cell_type": "code",
   "execution_count": 140,
   "id": "14a4b957",
   "metadata": {},
   "outputs": [],
   "source": [
    "speed_me = mean.speed_average"
   ]
  },
  {
   "cell_type": "code",
   "execution_count": 141,
   "id": "65bb1809",
   "metadata": {},
   "outputs": [],
   "source": [
    "scale_max_me = maxi.speed_radius * 1e-3 * 2"
   ]
  },
  {
   "cell_type": "code",
   "execution_count": 142,
   "id": "a4bd9f0a",
   "metadata": {},
   "outputs": [],
   "source": [
    "lat_me = [first.latitude, last.latitude]"
   ]
  },
  {
   "cell_type": "code",
   "execution_count": 143,
   "id": "db6333cf",
   "metadata": {},
   "outputs": [],
   "source": [
    "lon_me = [first.longitude, last.longitude]"
   ]
  },
  {
   "cell_type": "code",
   "execution_count": 176,
   "id": "dab14e44",
   "metadata": {},
   "outputs": [
    {
     "ename": "IndexError",
     "evalue": "index 2 is out of bounds for axis 0 with size 2",
     "output_type": "error",
     "traceback": [
      "\u001b[0;31m---------------------------------------------------------------------------\u001b[0m",
      "\u001b[0;31mIndexError\u001b[0m                                Traceback (most recent call last)",
      "\u001b[0;32m/scratch/tmp/shkifmmp/ipykernel_231270/75379478.py\u001b[0m in \u001b[0;36m<module>\u001b[0;34m\u001b[0m\n\u001b[0;32m----> 1\u001b[0;31m \u001b[0mdistance_me\u001b[0m \u001b[0;34m=\u001b[0m \u001b[0msw\u001b[0m\u001b[0;34m.\u001b[0m\u001b[0mextras\u001b[0m\u001b[0;34m.\u001b[0m\u001b[0mdist\u001b[0m\u001b[0;34m(\u001b[0m\u001b[0mlat\u001b[0m\u001b[0;34m=\u001b[0m\u001b[0mlat_t\u001b[0m\u001b[0;34m,\u001b[0m \u001b[0mlon\u001b[0m\u001b[0;34m=\u001b[0m\u001b[0mlon_t\u001b[0m\u001b[0;34m)\u001b[0m\u001b[0;34m\u001b[0m\u001b[0;34m\u001b[0m\u001b[0m\n\u001b[0m",
      "\u001b[0;32m~/miniconda3/envs/py3_eddy/lib/python3.8/site-packages/seawater/extras.py\u001b[0m in \u001b[0;36mdist\u001b[0;34m(lat, lon, units)\u001b[0m\n\u001b[1;32m     76\u001b[0m \u001b[0;34m\u001b[0m\u001b[0m\n\u001b[1;32m     77\u001b[0m     \u001b[0mlatrad\u001b[0m \u001b[0;34m=\u001b[0m \u001b[0mnp\u001b[0m\u001b[0;34m.\u001b[0m\u001b[0mabs\u001b[0m\u001b[0;34m(\u001b[0m\u001b[0mlat\u001b[0m \u001b[0;34m*\u001b[0m \u001b[0mdeg2rad\u001b[0m\u001b[0;34m)\u001b[0m\u001b[0;34m\u001b[0m\u001b[0;34m\u001b[0m\u001b[0m\n\u001b[0;32m---> 78\u001b[0;31m     \u001b[0mdep\u001b[0m \u001b[0;34m=\u001b[0m \u001b[0mnp\u001b[0m\u001b[0;34m.\u001b[0m\u001b[0mcos\u001b[0m\u001b[0;34m(\u001b[0m\u001b[0;34m(\u001b[0m\u001b[0mlatrad\u001b[0m\u001b[0;34m[\u001b[0m\u001b[0mind\u001b[0m \u001b[0;34m+\u001b[0m \u001b[0;36m1\u001b[0m\u001b[0;34m]\u001b[0m \u001b[0;34m+\u001b[0m \u001b[0mlatrad\u001b[0m\u001b[0;34m[\u001b[0m\u001b[0mind\u001b[0m\u001b[0;34m]\u001b[0m\u001b[0;34m)\u001b[0m \u001b[0;34m/\u001b[0m \u001b[0;36m2\u001b[0m\u001b[0;34m)\u001b[0m \u001b[0;34m*\u001b[0m \u001b[0mdlon\u001b[0m\u001b[0;34m\u001b[0m\u001b[0;34m\u001b[0m\u001b[0m\n\u001b[0m\u001b[1;32m     79\u001b[0m     \u001b[0mdlat\u001b[0m \u001b[0;34m=\u001b[0m \u001b[0mnp\u001b[0m\u001b[0;34m.\u001b[0m\u001b[0mdiff\u001b[0m\u001b[0;34m(\u001b[0m\u001b[0mlat\u001b[0m\u001b[0;34m,\u001b[0m \u001b[0maxis\u001b[0m\u001b[0;34m=\u001b[0m\u001b[0;36m0\u001b[0m\u001b[0;34m)\u001b[0m\u001b[0;34m\u001b[0m\u001b[0;34m\u001b[0m\u001b[0m\n\u001b[1;32m     80\u001b[0m     \u001b[0mdist\u001b[0m \u001b[0;34m=\u001b[0m \u001b[0mDEG2NM\u001b[0m \u001b[0;34m*\u001b[0m \u001b[0;34m(\u001b[0m\u001b[0mdlat\u001b[0m \u001b[0;34m**\u001b[0m \u001b[0;36m2\u001b[0m \u001b[0;34m+\u001b[0m \u001b[0mdep\u001b[0m \u001b[0;34m**\u001b[0m \u001b[0;36m2\u001b[0m\u001b[0;34m)\u001b[0m \u001b[0;34m**\u001b[0m \u001b[0;36m0.5\u001b[0m\u001b[0;34m\u001b[0m\u001b[0;34m\u001b[0m\u001b[0m\n",
      "\u001b[0;31mIndexError\u001b[0m: index 2 is out of bounds for axis 0 with size 2"
     ]
    }
   ],
   "source": [
    "distance_me = sw.extras.dist(lat=lat_t, lon=lon_t)"
   ]
  },
  {
   "cell_type": "code",
   "execution_count": null,
   "id": "225e7038",
   "metadata": {},
   "outputs": [],
   "source": []
  },
  {
   "cell_type": "code",
   "execution_count": null,
   "id": "bf941fd9",
   "metadata": {},
   "outputs": [],
   "source": [
    "# first.to_netcdf(path= datapath + 'obs/meta_post_first.nc')\n",
    "# last.to_netcdf(path= datapath + 'obs/meta_post_last.nc')\n",
    "# mean.to_netcdf(path= datapath + 'obs/meta_post_mean.nc')\n",
    "# maxi.to_netcdf(path= datapath + 'obs/meta_post_maxi.nc')\n",
    "life_time_me.to_netcdf(path= datapath + 'obs/meta_post_lifetime.nc')\n",
    "# amp_max_me.to_netcdf(path= datapath + 'obs/meta_post_amp.nc')\n",
    "# speed_me.to_netcdf(path= datapath + 'obs/meta_post_speed.nc')\n",
    "# scale_max_me.to_netcdf(path= datapath + 'obs/meta_post_scale.nc')\n",
    "lat_me.to_netcdf(path= datapath + 'obs/meta_post_lat.nc')\n",
    "lon_me.to_netcdf(path= datapath + 'obs/meta_post_lon.nc')"
   ]
  },
  {
   "cell_type": "code",
   "execution_count": 5,
   "id": "d7b1dc3d",
   "metadata": {},
   "outputs": [],
   "source": [
    "lifetime_m = xr.open_dataset(glob(datapath + 'obs/meta_pos*lifetime*')[0])\n",
    "\n",
    "amp_m = xr.open_dataset(glob(datapath + 'obs/meta_pos*amp*')[0])\n",
    "\n",
    "lat1_m = xr.open_dataset(glob(datapath + 'obs/meta_pos*lat1*')[0])\n",
    "\n",
    "lat2_m = xr.open_dataset(glob(datapath + 'obs/meta_pos*lat2*')[0])\n",
    "\n",
    "lon1_m = xr.open_dataset(glob(datapath + 'obs/meta_pos*lon1*')[0])\n",
    "lon2_m = xr.open_dataset(glob(datapath + 'obs/meta_pos*lon2*')[0])\n",
    "\n",
    "scale = xr.open_dataset(glob(datapath + 'obs/meta_pos*scale*')[0])\n",
    "\n",
    "speed = xr.open_dataset(glob(datapath + 'obs/meta_pos*speed*')[0])"
   ]
  },
  {
   "cell_type": "code",
   "execution_count": 140,
   "id": "91670711",
   "metadata": {},
   "outputs": [],
   "source": [
    "lifetime_m = lifetime_m.rename({'__xarray_dataarray_variable__': 'lifetime'} )"
   ]
  },
  {
   "cell_type": "code",
   "execution_count": 159,
   "id": "0c4696dc",
   "metadata": {},
   "outputs": [],
   "source": [
    "lifetime_m.coords['track'] = speed.coords['track']"
   ]
  },
  {
   "cell_type": "code",
   "execution_count": 165,
   "id": "7ef7f079",
   "metadata": {},
   "outputs": [],
   "source": [
    "meta = meta.update({'distance': ('track', distance)})"
   ]
  },
  {
   "cell_type": "code",
   "execution_count": 161,
   "id": "5d61f9ce",
   "metadata": {},
   "outputs": [],
   "source": [
    "meta = xr.merge([scale, speed, amp_m, lifetime_m])"
   ]
  },
  {
   "cell_type": "code",
   "execution_count": 163,
   "id": "2cce4f77",
   "metadata": {},
   "outputs": [
    {
     "data": {
      "text/plain": [
       "array([457.7756 , 285.90952, 506.30096, ..., 105.72132,  74.04175,\n",
       "        75.29008], dtype=float32)"
      ]
     },
     "execution_count": 163,
     "metadata": {},
     "output_type": "execute_result"
    }
   ],
   "source": [
    "distance"
   ]
  },
  {
   "cell_type": "code",
   "execution_count": 76,
   "id": "79a9ac0a",
   "metadata": {},
   "outputs": [],
   "source": [
    "lon = np.column_stack((lon1_m.longitude.values, lon2_m.longitude.values))"
   ]
  },
  {
   "cell_type": "code",
   "execution_count": 75,
   "id": "83d8e306",
   "metadata": {},
   "outputs": [],
   "source": [
    "lat = np.column_stack((lat1_m.latitude.values, lat2_m.latitude.values))"
   ]
  },
  {
   "cell_type": "code",
   "execution_count": 97,
   "id": "50d175d2",
   "metadata": {},
   "outputs": [],
   "source": [
    "distance = list(map(sw.extras.dist,lat, lon))"
   ]
  },
  {
   "cell_type": "code",
   "execution_count": 168,
   "id": "722950ba",
   "metadata": {},
   "outputs": [],
   "source": [
    "meta.to_netcdf(path= datapath + 'obs/meta_postproc_complete.nc')"
   ]
  },
  {
   "cell_type": "code",
   "execution_count": 113,
   "id": "1beaada1",
   "metadata": {},
   "outputs": [],
   "source": [
    "distance = np.array(distance)"
   ]
  },
  {
   "cell_type": "code",
   "execution_count": 132,
   "id": "774d8668",
   "metadata": {},
   "outputs": [],
   "source": [
    "distance = np.squeeze((np.hsplit(distance,2)))"
   ]
  },
  {
   "cell_type": "code",
   "execution_count": 136,
   "id": "fb9f5fe1",
   "metadata": {},
   "outputs": [],
   "source": [
    "distance = distance[0]"
   ]
  },
  {
   "cell_type": "code",
   "execution_count": 85,
   "id": "9097042f",
   "metadata": {},
   "outputs": [],
   "source": [
    "distance_me = sw.extras.dist(lat=lat, lon=lon)[0]"
   ]
  },
  {
   "cell_type": "code",
   "execution_count": 53,
   "id": "d3123515",
   "metadata": {},
   "outputs": [
    {
     "data": {
      "text/plain": [
       "[array([-55.9151, -45.7119, -54.4664, ..., -57.3629, -47.9334, -53.3901],\n",
       "       dtype=float32),\n",
       " array([-55.9495, -43.9774, -54.6469, ..., -58.1705, -47.2891, -52.9078],\n",
       "       dtype=float32)]"
      ]
     },
     "execution_count": 53,
     "metadata": {},
     "output_type": "execute_result"
    }
   ],
   "source": [
    "[lat1_m.latitude.values, lat2_m.latitude.values]"
   ]
  },
  {
   "cell_type": "code",
   "execution_count": 63,
   "id": "9ac68bdc",
   "metadata": {},
   "outputs": [
    {
     "data": {
      "text/plain": [
       "[(array([ 9647.67  , 10068.203 ,  5868.9243, ...,  1331.1963,  9031.344 ,\n",
       "         12251.712 ], dtype=float32),\n",
       "  array([ 173.2511   , -174.45537  ,    4.7876573, ...,    2.1847835,\n",
       "          173.3376   ,   -2.8367794], dtype=float32)),\n",
       " (array([ 9513.526 , 10623.575 ,  6417.0566, ...,  1191.5409,  8955.19  ,\n",
       "         12437.167 ], dtype=float32),\n",
       "  array([ 171.96161  , -173.59242  ,    5.2761893, ...,   -2.0378227,\n",
       "          172.24014  ,   -2.877476 ], dtype=float32))]"
      ]
     },
     "execution_count": 63,
     "metadata": {},
     "output_type": "execute_result"
    }
   ],
   "source": []
  },
  {
   "cell_type": "code",
   "execution_count": 197,
   "id": "0e767ad1",
   "metadata": {},
   "outputs": [],
   "source": [
    "xr.DataArray(data= lon_me[1], dims='track').to_netcdf(path= datapath + 'obs/meta_post_lon2.nc')"
   ]
  },
  {
   "cell_type": "code",
   "execution_count": null,
   "id": "c9d7b3a0",
   "metadata": {},
   "outputs": [],
   "source": [
    "meta_pos.to_netcdf(path=datapath + 'obs/meta_postproc.nc')"
   ]
  },
  {
   "cell_type": "code",
   "execution_count": null,
   "id": "5a43f6a3",
   "metadata": {},
   "outputs": [],
   "source": []
  }
 ],
 "metadata": {
  "kernelspec": {
   "display_name": "Python [conda env:py3_eddy]",
   "language": "python",
   "name": "conda-env-py3_eddy-py"
  },
  "language_info": {
   "codemirror_mode": {
    "name": "ipython",
    "version": 3
   },
   "file_extension": ".py",
   "mimetype": "text/x-python",
   "name": "python",
   "nbconvert_exporter": "python",
   "pygments_lexer": "ipython3",
   "version": "3.8.12"
  }
 },
 "nbformat": 4,
 "nbformat_minor": 5
}
