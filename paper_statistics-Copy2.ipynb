{
 "cells": [
  {
   "cell_type": "markdown",
   "id": "a24de029",
   "metadata": {},
   "source": [
    "### MOST UPDATED - 09.09.2022"
   ]
  },
  {
   "cell_type": "code",
   "execution_count": 1,
   "id": "4112959c",
   "metadata": {},
   "outputs": [],
   "source": [
    "from glob import glob\n",
    "import numpy as np\n",
    "import xarray as xr\n",
    "from matplotlib import pyplot as plt\n",
    "import xgcm\n",
    "from xorca.lib import load_xorca_dataset\n",
    "import pickle\n",
    "import eddytools as et\n",
    "from cmocean import cm\n",
    "from dask.diagnostics import ProgressBar\n",
    "import pandas as pd\n",
    "import cartopy.crs as ccrs\n",
    "import cartopy.feature as cfeature\n",
    "from datetime import timedelta\n",
    "import matplotlib.colors as colors\n",
    "import seawater as sw\n",
    "import math\n",
    "import scipy.stats as stats\n",
    "from matplotlib import axes\n",
    "\n",
    "\n",
    "import warnings\n",
    "warnings.simplefilter(action='ignore', category=RuntimeWarning)"
   ]
  },
  {
   "cell_type": "markdown",
   "id": "29c49dce",
   "metadata": {},
   "source": [
    "### path to data"
   ]
  },
  {
   "cell_type": "code",
   "execution_count": null,
   "id": "0641e8ee",
   "metadata": {},
   "outputs": [],
   "source": [
    "datapath = '/scratch/usr/shkifmmp/manusc/data/'"
   ]
  },
  {
   "cell_type": "code",
   "execution_count": 3,
   "id": "816ee5e8",
   "metadata": {},
   "outputs": [],
   "source": [
    "def create_stat(model, year_start, year_finished = 2018): # UPDATED 09.09.2022 - > ONLY TYPED0\n",
    "    \n",
    "    \"\"\" \n",
    "        model == 0 > EXP05 elif == 1 EXP06\n",
    "        typed == 0 > ACC / elif == 1 WHOLE REGION\n",
    "    \"\"\"\n",
    "    \n",
    "    folder = 'EXP05' if model == 0 else 'EXP06'\n",
    "    \n",
    "#     if (typed == 0) & (model == 0):\n",
    "#         with open(path_EXP05_old + 'track_dict_19580101_' + str(year_finished) + '1231_tracks_typed' + str(typed) \n",
    "#                   + '.pickle', 'rb') as f:\n",
    "#             tracks = pickle.load(f)\n",
    "#         f.close()\n",
    "#     else:\n",
    "    with open(datapath + folder + '/detected/track_dict_' + str(year_start) + '0101_' + str(year_finished) + '1231_tracks_typed0.pickle', 'rb') as f:\n",
    "        tracks = pickle.load(f)\n",
    "    f.close()     \n",
    "    \n",
    "    eddy_stat = pd.DataFrame.from_dict(tracks, orient = 'index').drop(['eddy_j', 'eddy_i'], axis=1)\n",
    "    \n",
    "    for i in eddy_stat.index:\n",
    "        eddy_stat.loc[i, 'life_time'] = pd.to_datetime(eddy_stat.time.loc[i][-1]) - pd.to_datetime(eddy_stat.time.loc[i][0])\n",
    "    \n",
    "    eddy_stat = eddy_stat.loc[(eddy_stat['exist_at_start'] ==  False) & (eddy_stat.terminated == True)]\n",
    "    \n",
    "    for i in eddy_stat.index:\n",
    "        lat = [eddy_stat.loc[i, 'lat'][0], eddy_stat.loc[i, 'lat'][-1]]\n",
    "        lon = [eddy_stat.loc[i, 'lon'][0], eddy_stat.loc[i, 'lon'][-1]]\n",
    "        eddy_stat.loc[i, 'distance'] = sw.extras.dist(lat,lon)[0]\n",
    "        #eddy_stat.loc[i, 'speed'] = eddy_stat.loc[i, 'distance'] / eddy_stat.loc[i, 'life_time']\n",
    "        eddy_stat.loc[i, 'speed'] = (eddy_stat.loc[i, 'distance'] *1e5)/ (eddy_stat.loc[i, 'life_time'].days * 24 * 3600) # cm/s\n",
    "#         eddy_stat.loc[i, 'angle'] = (sw.extras.dist(eddy_stat.loc[i, 'lat'], eddy_stat.loc[i, 'lon'])[1]).mean()\n",
    "        eddy_stat.loc[i, 'area_mean'] = eddy_stat.loc[i, 'area'].mean()\n",
    "        eddy_stat.loc[i, 'area_max'] = eddy_stat.loc[i, 'area'].max()\n",
    "        eddy_stat.loc[i, 'amp_mean'] = eddy_stat.loc[i, 'amp'].mean()\n",
    "        eddy_stat.loc[i, 'amp_max'] = eddy_stat.loc[i, 'amp'].max()\n",
    "        eddy_stat.loc[i, 'scale_mean'] = eddy_stat.loc[i, 'scale'].mean()\n",
    "        eddy_stat.loc[i, 'scale_min'] = eddy_stat.loc[i, 'scale'].min()\n",
    "        eddy_stat.loc[i, 'scale_max'] = eddy_stat.loc[i, 'scale'].max()\n",
    "        eddy_stat.loc[i, 'year_i'] = pd.to_datetime(eddy_stat.time.loc[i][0]).year\n",
    "        eddy_stat.loc[i, 'year_f'] = pd.to_datetime(eddy_stat.time.loc[i][-1]).year\n",
    "    \n",
    "    eddy_stat = eddy_stat.drop(labels=['lon','lat','amp','area','scale','exist_at_start','terminated'],axis=1)\n",
    "\n",
    "    eddy_stat = eddy_stat.loc[(eddy_stat['life_time'].astype('timedelta64[D]') >= 30)]\n",
    "    eddy_stat.loc[:, 'life_time'] = eddy_stat.loc[:, 'life_time'].astype('timedelta64[D]')\n",
    "        \n",
    "    eddy_stat.loc[:,'scale_mean'] *= 2\n",
    "    eddy_stat.loc[:,'scale_max'] *= 2\n",
    "\n",
    "    eddy_stat = eddy_stat.drop('time', axis=1)\n",
    "\n",
    "    \n",
    "    eddy_stat.to_pickle(path= datapath + folder + '/detected/stat_' + folder + '_acc_'+ str(year_finished) + '_' + str(year_finished) +'.pkl')\n",
    "\n",
    "    return eddy_stat"
   ]
  },
  {
   "cell_type": "code",
   "execution_count": null,
   "id": "2f71b86b",
   "metadata": {},
   "outputs": [],
   "source": [
    "create_stat(model=0, year_start=1993, year_finished=2018)"
   ]
  },
  {
   "cell_type": "code",
   "execution_count": null,
   "id": "41384fd8",
   "metadata": {},
   "outputs": [],
   "source": []
  },
  {
   "cell_type": "code",
   "execution_count": null,
   "id": "20baf971",
   "metadata": {},
   "outputs": [],
   "source": []
  }
 ],
 "metadata": {
  "kernelspec": {
   "display_name": "Python [conda env:py3_eddy]",
   "language": "python",
   "name": "conda-env-py3_eddy-py"
  },
  "language_info": {
   "codemirror_mode": {
    "name": "ipython",
    "version": 3
   },
   "file_extension": ".py",
   "mimetype": "text/x-python",
   "name": "python",
   "nbconvert_exporter": "python",
   "pygments_lexer": "ipython3",
   "version": "3.8.12"
  }
 },
 "nbformat": 4,
 "nbformat_minor": 5
}
