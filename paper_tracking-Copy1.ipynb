{
 "cells": [
  {
   "cell_type": "code",
   "execution_count": 1,
   "id": "0ab2096d",
   "metadata": {},
   "outputs": [],
   "source": [
    "from glob import glob\n",
    "import numpy as np\n",
    "import xarray as xr\n",
    "from matplotlib import pyplot as plt\n",
    "import xgcm\n",
    "from xorca.lib import load_xorca_dataset\n",
    "import pickle\n",
    "import eddytools as et\n",
    "from cmocean import cm\n",
    "\n",
    "import warnings\n",
    "warnings.simplefilter(action='ignore', category=RuntimeWarning)"
   ]
  },
  {
   "cell_type": "code",
   "execution_count": 2,
   "id": "c8a59055",
   "metadata": {},
   "outputs": [],
   "source": [
    "# mask\n",
    "meshpath = ['/scratch/usr/shkifmjr/NUSERDATA/ORION/10-data/meshmask/1_mesh_mask.nc']\n",
    "mask_10 = xr.open_dataset(meshpath[0], chunks={\"y\":100, \"x\":100}).tmask.isel(z=0).squeeze()\n",
    "mask_10_base = xr.open_dataset('/scratch/usr/shkifmjr/NUSERDATA/ORION/10-data/meshmask/mesh_mask.nc', chunks={\"y\":100, \"x\":100}).tmask.isel(z=0).squeeze()\n",
    "\n",
    "# bathymetry for eddytools\n",
    "path_bathy = '/scratch/usr/shklvn09/SCRATCH/ORION10.L46.LIM2vp.CFCSF6.MOPS.JRA.XIOS2.5.LP01-EXP05/OUT/'\n",
    "\n",
    "# observational data\n",
    "obs_path = '/scratch/usr/shkifmmp/master/data/observations/'\n",
    "\n",
    "#EKE\n",
    "path_EXP6 = '/scratch/usr/shkifmmp/manusc/data/EXP06/EKE/'\n",
    "\n",
    "# DATA DETECTION\n",
    "datapath= '/scratch/usr/shkifmmp/manusc/data/'\n",
    "\n",
    "datapath_r = '/scratch/usr/shkifmmp/master/data/'"
   ]
  },
  {
   "cell_type": "markdown",
   "id": "0db649b1",
   "metadata": {},
   "source": [
    "### TRACKING WITHIN ACC"
   ]
  },
  {
   "cell_type": "code",
   "execution_count": 3,
   "id": "0a289b16",
   "metadata": {},
   "outputs": [],
   "source": [
    "def f_tracking(type_d, model, year_i, year_e, continuar = False):\n",
    "    \"\"\"\n",
    "    type_d = 0 -> ACC REGION / = 1 -> WHOLE REGION\n",
    "    model = 0 -> EXP05 / = 1 -> EXP06\n",
    "    \n",
    "    \"\"\"\n",
    "    if model == 1:\n",
    "        datapath_t = datapath + 'EXP06/detected/'\n",
    "    elif model == 0:\n",
    "        datapath_t = datapath + 'EXP05/detected/' if (type_d == 1) else '/scratch/usr/shkifmmp/master/data/ORION10/eddies_detect/acc/'\n",
    "\n",
    "    \n",
    "    if (type_d == 0):\n",
    "        lat1, lat2= -65, -37\n",
    "        if model == 1:\n",
    "            file_root = 'det_typed0'\n",
    "            file_spec = 'eddies_OW0.3_npixmax421_npixmin10'\n",
    "        elif model == 0:\n",
    "            file_root = 'case9'\n",
    "            file_spec = 'eddies_OW0.3_77.5_69.5'\n",
    "        \n",
    "    else:\n",
    "        lat1, lat2= -67, -30\n",
    "        file_root = 'det_typed1'\n",
    "        file_spec = 'eddies_OW0.2_npixmax1038_npixmin10'\n",
    "        \n",
    "        \n",
    "    # Specify parameters for eddy tracking\n",
    "    tracking_param = {'model': 'ORCA',\n",
    "                       'grid': 'latlon',\n",
    "                       'start_time': str(year_i) + '-01-03', # time range start\n",
    "                       'end_time': str(year_e) + '-12-31', # time range end\n",
    "                       'calendar': 'standard', # calendar, must be either 360_day or standard\n",
    "                       'dt': 5, # temporal resolution of the data in days\n",
    "                       'lon1': 77.5, # minimum longitude of detection region\n",
    "                       'lon2': 69.5, # maximum longitude\n",
    "                       'lat1': lat1, # minimum latitude\n",
    "                       'lat2': lat2, # maximum latitude\n",
    "                       'dE': 50., # maximum distance of search ellipsis from eddy center in towards the east \n",
    "                                 # (if set to 0, it will be calculated as (150. / (7. / dt)))\n",
    "                       'eddy_scale_min': 0.5, # minimum factor by which eddy amplitude and area are allowed to change in one timestep\n",
    "                       'eddy_scale_max': 1.5, # maximum factor by which eddy amplitude and area are allowed to change in one timestep\n",
    "                       'dict': 0, # dictionary containing detected eddies to be used when not stored in files (set to 0 otherwise)\n",
    "                       'data_path': datapath_t, # path to the detected eddies pickle files\n",
    "                       'file_root': file_root,\n",
    "                       'file_spec': file_spec,\n",
    "                       'ross_path': datapath_r} # path to rossrad.dat containing Chelton et a1. 1998 Rossby radii\n",
    "    \n",
    "    if continuar == False:\n",
    "        tracks_dict, tracks, terminated_list = et.tracking.split_track(tracking_param, in_file=True, continuing=False, tracks=[], terminated_list=[])\n",
    "        \n",
    "        \n",
    "    elif continuar == True:\n",
    "        \n",
    "        with open(datapath_t\n",
    "                  + 'track_19580101_' + str(year_i - 1) + '1231_tracks_typed' + str(type_d)\n",
    "                  + '.pickle', 'rb') as f:\n",
    "            tracks = pickle.load(f)\n",
    "        f.close()\n",
    "        \n",
    "        with open(datapath_t\n",
    "                  + 'terminatedlist_' + str(year_i - 1) + '_tracks_typed' + str(type_d)\n",
    "                  + '.pickle', 'rb') as f:\n",
    "            terminated_list = pickle.load(f)\n",
    "        f.close()\n",
    "        \n",
    "        tracks_dict, tracks, terminated_list = et.tracking.split_track(tracking_param, in_file=True, continuing=True, tracks=tracks, terminated_list=terminated_list)\n",
    "\n",
    "    # We save the tracks for later use\n",
    "    with open(datapath_t\n",
    "              + 'track_19580101_' + str(year_e) + '1231_tracks_typed' + str(type_d)\n",
    "              + '.pickle', 'wb') as f:\n",
    "        pickle.dump(tracks, f, pickle.HIGHEST_PROTOCOL)\n",
    "    f.close()\n",
    "    \n",
    "    with open(datapath_t\n",
    "              + 'terminatedlist_' + str(year_e) + '_tracks_typed' + str(type_d)\n",
    "              + '.pickle', 'wb') as f:\n",
    "        pickle.dump(terminated_list, f, pickle.HIGHEST_PROTOCOL)\n",
    "    f.close()\n",
    "    \n",
    "    with open(datapath_t\n",
    "              + 'track_dict_19580101_' + str(year_e) + '1231_tracks_typed' + str(type_d)\n",
    "              + '.pickle', 'wb') as f:\n",
    "        pickle.dump(tracks_dict, f, pickle.HIGHEST_PROTOCOL)\n",
    "    f.close()\n",
    "    \n",
    "    return tracks_dict, tracks, terminated_list"
   ]
  },
  {
   "cell_type": "code",
   "execution_count": null,
   "id": "dc83ef9f",
   "metadata": {},
   "outputs": [
    {
     "name": "stdout",
     "output_type": "stream",
     "text": [
      "tracking at time step  1  of  219\n",
      "tracking at time step  25  of  219\n"
     ]
    }
   ],
   "source": [
    "tracks_dict, tracks, terminated_list = f_tracking(type_d=0, model=1, year_i=1981, year_e=1983, continuar=True)"
   ]
  },
  {
   "cell_type": "code",
   "execution_count": null,
   "id": "bd4ff4ea",
   "metadata": {},
   "outputs": [],
   "source": []
  },
  {
   "cell_type": "code",
   "execution_count": null,
   "id": "fc447983",
   "metadata": {},
   "outputs": [],
   "source": []
  }
 ],
 "metadata": {
  "kernelspec": {
   "display_name": "Python [conda env:py3_eddy]",
   "language": "python",
   "name": "conda-env-py3_eddy-py"
  },
  "language_info": {
   "codemirror_mode": {
    "name": "ipython",
    "version": 3
   },
   "file_extension": ".py",
   "mimetype": "text/x-python",
   "name": "python",
   "nbconvert_exporter": "python",
   "pygments_lexer": "ipython3",
   "version": "3.8.12"
  }
 },
 "nbformat": 4,
 "nbformat_minor": 5
}
